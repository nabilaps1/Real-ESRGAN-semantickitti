{
  "cells": [
    {
      "cell_type": "markdown",
      "metadata": {
        "id": "5rEO7yNFPQ_n"
      },
      "source": [
        "**General**\n",
        "For ease of use, we recommend downloading the original Real-ESRGAN reposetory (https://github.com/xinntao/Real-ESRGAN), and uploading the folder to a google colab.\n",
        "In any case, in order to run this notebook it is required to put it int the Real-ESRGAN folder.\n",
        "\n",
        "The notebook is comprosed of 2 sections, training and inference. If only one is required, skip the irrelevent part."
      ]
    },
    {
      "cell_type": "code",
      "execution_count": 2,
      "metadata": {
        "colab": {
          "base_uri": "https://localhost:8080/"
        },
        "id": "pecZo3rA7nPP",
        "outputId": "b522ae8b-7ad9-4ace-e99c-adbe9b75e92a"
      },
      "outputs": [],
      "source": [
        "# from google.colab import drive\n",
        "# drive.mount('/content/drive', force_remount=True)\n",
        "# !cp -r /content/drive/MyDrive/Real-ESRGAN-master/* ."
      ]
    },
    {
      "cell_type": "code",
      "execution_count": 14,
      "metadata": {
        "colab": {
          "base_uri": "https://localhost:8080/"
        },
        "id": "e60xnG7NO4F4",
        "outputId": "4fff551b-d26a-4573-e39d-3521343aa390"
      },
      "outputs": [
        {
          "name": "stdout",
          "output_type": "stream",
          "text": [
            "^C\n",
            "\u001b[31mERROR: Operation cancelled by user\u001b[0m\u001b[31m\n",
            "\u001b[0mRequirement already satisfied: facexlib in ./.venv/lib/python3.10/site-packages (0.3.0)\n",
            "Requirement already satisfied: filterpy in ./.venv/lib/python3.10/site-packages (from facexlib) (1.4.5)\n",
            "Requirement already satisfied: numba in ./.venv/lib/python3.10/site-packages (from facexlib) (0.59.1)\n",
            "Requirement already satisfied: numpy in ./.venv/lib/python3.10/site-packages (from facexlib) (1.26.4)\n",
            "Requirement already satisfied: opencv-python in ./.venv/lib/python3.10/site-packages (from facexlib) (4.9.0.80)\n",
            "Requirement already satisfied: Pillow in ./.venv/lib/python3.10/site-packages (from facexlib) (10.3.0)\n",
            "Requirement already satisfied: scipy in ./.venv/lib/python3.10/site-packages (from facexlib) (1.13.0)\n",
            "Requirement already satisfied: torch in ./.venv/lib/python3.10/site-packages (from facexlib) (2.2.2+cu121)\n",
            "Requirement already satisfied: torchvision in ./.venv/lib/python3.10/site-packages (from facexlib) (0.17.2+cu121)\n",
            "Requirement already satisfied: tqdm in ./.venv/lib/python3.10/site-packages (from facexlib) (4.66.4)\n",
            "Requirement already satisfied: matplotlib in ./.venv/lib/python3.10/site-packages (from filterpy->facexlib) (3.8.4)\n",
            "Requirement already satisfied: llvmlite<0.43,>=0.42.0dev0 in ./.venv/lib/python3.10/site-packages (from numba->facexlib) (0.42.0)\n",
            "Requirement already satisfied: filelock in ./.venv/lib/python3.10/site-packages (from torch->facexlib) (3.14.0)\n",
            "Requirement already satisfied: typing-extensions>=4.8.0 in ./.venv/lib/python3.10/site-packages (from torch->facexlib) (4.11.0)\n",
            "Requirement already satisfied: sympy in ./.venv/lib/python3.10/site-packages (from torch->facexlib) (1.12)\n",
            "Requirement already satisfied: networkx in ./.venv/lib/python3.10/site-packages (from torch->facexlib) (3.3)\n",
            "Requirement already satisfied: jinja2 in ./.venv/lib/python3.10/site-packages (from torch->facexlib) (3.1.4)\n",
            "Requirement already satisfied: fsspec in ./.venv/lib/python3.10/site-packages (from torch->facexlib) (2024.5.0)\n",
            "Requirement already satisfied: nvidia-cuda-nvrtc-cu12==12.1.105 in ./.venv/lib/python3.10/site-packages (from torch->facexlib) (12.1.105)\n",
            "Requirement already satisfied: nvidia-cuda-runtime-cu12==12.1.105 in ./.venv/lib/python3.10/site-packages (from torch->facexlib) (12.1.105)\n",
            "Requirement already satisfied: nvidia-cuda-cupti-cu12==12.1.105 in ./.venv/lib/python3.10/site-packages (from torch->facexlib) (12.1.105)\n",
            "Requirement already satisfied: nvidia-cudnn-cu12==8.9.2.26 in ./.venv/lib/python3.10/site-packages (from torch->facexlib) (8.9.2.26)\n",
            "Requirement already satisfied: nvidia-cublas-cu12==12.1.3.1 in ./.venv/lib/python3.10/site-packages (from torch->facexlib) (12.1.3.1)\n",
            "Requirement already satisfied: nvidia-cufft-cu12==11.0.2.54 in ./.venv/lib/python3.10/site-packages (from torch->facexlib) (11.0.2.54)\n",
            "Requirement already satisfied: nvidia-curand-cu12==10.3.2.106 in ./.venv/lib/python3.10/site-packages (from torch->facexlib) (10.3.2.106)\n",
            "Requirement already satisfied: nvidia-cusolver-cu12==11.4.5.107 in ./.venv/lib/python3.10/site-packages (from torch->facexlib) (11.4.5.107)\n",
            "Requirement already satisfied: nvidia-cusparse-cu12==12.1.0.106 in ./.venv/lib/python3.10/site-packages (from torch->facexlib) (12.1.0.106)\n",
            "Requirement already satisfied: nvidia-nccl-cu12==2.19.3 in ./.venv/lib/python3.10/site-packages (from torch->facexlib) (2.19.3)\n",
            "Requirement already satisfied: nvidia-nvtx-cu12==12.1.105 in ./.venv/lib/python3.10/site-packages (from torch->facexlib) (12.1.105)\n",
            "Requirement already satisfied: triton==2.2.0 in ./.venv/lib/python3.10/site-packages (from torch->facexlib) (2.2.0)\n",
            "Requirement already satisfied: nvidia-nvjitlink-cu12 in ./.venv/lib/python3.10/site-packages (from nvidia-cusolver-cu12==11.4.5.107->torch->facexlib) (12.4.127)\n",
            "Requirement already satisfied: MarkupSafe>=2.0 in ./.venv/lib/python3.10/site-packages (from jinja2->torch->facexlib) (2.1.5)\n",
            "Requirement already satisfied: contourpy>=1.0.1 in ./.venv/lib/python3.10/site-packages (from matplotlib->filterpy->facexlib) (1.2.1)\n",
            "Requirement already satisfied: cycler>=0.10 in ./.venv/lib/python3.10/site-packages (from matplotlib->filterpy->facexlib) (0.12.1)\n",
            "Requirement already satisfied: fonttools>=4.22.0 in ./.venv/lib/python3.10/site-packages (from matplotlib->filterpy->facexlib) (4.51.0)\n",
            "Requirement already satisfied: kiwisolver>=1.3.1 in ./.venv/lib/python3.10/site-packages (from matplotlib->filterpy->facexlib) (1.4.5)\n",
            "Requirement already satisfied: packaging>=20.0 in ./.venv/lib/python3.10/site-packages (from matplotlib->filterpy->facexlib) (24.0)\n",
            "Requirement already satisfied: pyparsing>=2.3.1 in ./.venv/lib/python3.10/site-packages (from matplotlib->filterpy->facexlib) (3.1.2)\n",
            "Requirement already satisfied: python-dateutil>=2.7 in ./.venv/lib/python3.10/site-packages (from matplotlib->filterpy->facexlib) (2.9.0.post0)\n",
            "Requirement already satisfied: mpmath>=0.19 in ./.venv/lib/python3.10/site-packages (from sympy->torch->facexlib) (1.3.0)\n",
            "Requirement already satisfied: six>=1.5 in ./.venv/lib/python3.10/site-packages (from python-dateutil>=2.7->matplotlib->filterpy->facexlib) (1.16.0)\n",
            "Requirement already satisfied: gfpgan in ./.venv/lib/python3.10/site-packages (1.3.8)\n",
            "Requirement already satisfied: basicsr>=1.4.2 in ./.venv/lib/python3.10/site-packages (from gfpgan) (1.4.2)\n",
            "Requirement already satisfied: facexlib>=0.2.5 in ./.venv/lib/python3.10/site-packages (from gfpgan) (0.3.0)\n",
            "Requirement already satisfied: lmdb in ./.venv/lib/python3.10/site-packages (from gfpgan) (1.4.1)\n",
            "Requirement already satisfied: numpy in ./.venv/lib/python3.10/site-packages (from gfpgan) (1.26.4)\n",
            "Requirement already satisfied: opencv-python in ./.venv/lib/python3.10/site-packages (from gfpgan) (4.9.0.80)\n",
            "Requirement already satisfied: pyyaml in ./.venv/lib/python3.10/site-packages (from gfpgan) (6.0.1)\n",
            "Requirement already satisfied: scipy in ./.venv/lib/python3.10/site-packages (from gfpgan) (1.13.0)\n",
            "Requirement already satisfied: tb-nightly in ./.venv/lib/python3.10/site-packages (from gfpgan) (2.17.0a20240515)\n",
            "Requirement already satisfied: torch>=1.7 in ./.venv/lib/python3.10/site-packages (from gfpgan) (2.2.2+cu121)\n",
            "Requirement already satisfied: torchvision in ./.venv/lib/python3.10/site-packages (from gfpgan) (0.17.2+cu121)\n",
            "Requirement already satisfied: tqdm in ./.venv/lib/python3.10/site-packages (from gfpgan) (4.66.4)\n",
            "Requirement already satisfied: yapf in ./.venv/lib/python3.10/site-packages (from gfpgan) (0.40.2)\n",
            "Requirement already satisfied: addict in ./.venv/lib/python3.10/site-packages (from basicsr>=1.4.2->gfpgan) (2.4.0)\n",
            "Requirement already satisfied: future in ./.venv/lib/python3.10/site-packages (from basicsr>=1.4.2->gfpgan) (1.0.0)\n",
            "Requirement already satisfied: Pillow in ./.venv/lib/python3.10/site-packages (from basicsr>=1.4.2->gfpgan) (10.3.0)\n",
            "Requirement already satisfied: requests in ./.venv/lib/python3.10/site-packages (from basicsr>=1.4.2->gfpgan) (2.31.0)\n",
            "Requirement already satisfied: scikit-image in ./.venv/lib/python3.10/site-packages (from basicsr>=1.4.2->gfpgan) (0.23.2)\n",
            "Requirement already satisfied: filterpy in ./.venv/lib/python3.10/site-packages (from facexlib>=0.2.5->gfpgan) (1.4.5)\n",
            "Requirement already satisfied: numba in ./.venv/lib/python3.10/site-packages (from facexlib>=0.2.5->gfpgan) (0.59.1)\n",
            "Requirement already satisfied: filelock in ./.venv/lib/python3.10/site-packages (from torch>=1.7->gfpgan) (3.14.0)\n",
            "Requirement already satisfied: typing-extensions>=4.8.0 in ./.venv/lib/python3.10/site-packages (from torch>=1.7->gfpgan) (4.11.0)\n",
            "Requirement already satisfied: sympy in ./.venv/lib/python3.10/site-packages (from torch>=1.7->gfpgan) (1.12)\n",
            "Requirement already satisfied: networkx in ./.venv/lib/python3.10/site-packages (from torch>=1.7->gfpgan) (3.3)\n",
            "Requirement already satisfied: jinja2 in ./.venv/lib/python3.10/site-packages (from torch>=1.7->gfpgan) (3.1.4)\n",
            "Requirement already satisfied: fsspec in ./.venv/lib/python3.10/site-packages (from torch>=1.7->gfpgan) (2024.5.0)\n",
            "Requirement already satisfied: nvidia-cuda-nvrtc-cu12==12.1.105 in ./.venv/lib/python3.10/site-packages (from torch>=1.7->gfpgan) (12.1.105)\n",
            "Requirement already satisfied: nvidia-cuda-runtime-cu12==12.1.105 in ./.venv/lib/python3.10/site-packages (from torch>=1.7->gfpgan) (12.1.105)\n",
            "Requirement already satisfied: nvidia-cuda-cupti-cu12==12.1.105 in ./.venv/lib/python3.10/site-packages (from torch>=1.7->gfpgan) (12.1.105)\n",
            "Requirement already satisfied: nvidia-cudnn-cu12==8.9.2.26 in ./.venv/lib/python3.10/site-packages (from torch>=1.7->gfpgan) (8.9.2.26)\n",
            "Requirement already satisfied: nvidia-cublas-cu12==12.1.3.1 in ./.venv/lib/python3.10/site-packages (from torch>=1.7->gfpgan) (12.1.3.1)\n",
            "Requirement already satisfied: nvidia-cufft-cu12==11.0.2.54 in ./.venv/lib/python3.10/site-packages (from torch>=1.7->gfpgan) (11.0.2.54)\n",
            "Requirement already satisfied: nvidia-curand-cu12==10.3.2.106 in ./.venv/lib/python3.10/site-packages (from torch>=1.7->gfpgan) (10.3.2.106)\n",
            "Requirement already satisfied: nvidia-cusolver-cu12==11.4.5.107 in ./.venv/lib/python3.10/site-packages (from torch>=1.7->gfpgan) (11.4.5.107)\n",
            "Requirement already satisfied: nvidia-cusparse-cu12==12.1.0.106 in ./.venv/lib/python3.10/site-packages (from torch>=1.7->gfpgan) (12.1.0.106)\n",
            "Requirement already satisfied: nvidia-nccl-cu12==2.19.3 in ./.venv/lib/python3.10/site-packages (from torch>=1.7->gfpgan) (2.19.3)\n",
            "Requirement already satisfied: nvidia-nvtx-cu12==12.1.105 in ./.venv/lib/python3.10/site-packages (from torch>=1.7->gfpgan) (12.1.105)\n",
            "Requirement already satisfied: triton==2.2.0 in ./.venv/lib/python3.10/site-packages (from torch>=1.7->gfpgan) (2.2.0)\n",
            "Requirement already satisfied: nvidia-nvjitlink-cu12 in ./.venv/lib/python3.10/site-packages (from nvidia-cusolver-cu12==11.4.5.107->torch>=1.7->gfpgan) (12.4.127)\n",
            "Requirement already satisfied: absl-py>=0.4 in ./.venv/lib/python3.10/site-packages (from tb-nightly->gfpgan) (2.1.0)\n",
            "Requirement already satisfied: grpcio>=1.48.2 in ./.venv/lib/python3.10/site-packages (from tb-nightly->gfpgan) (1.63.0)\n",
            "Requirement already satisfied: markdown>=2.6.8 in ./.venv/lib/python3.10/site-packages (from tb-nightly->gfpgan) (3.6)\n",
            "Requirement already satisfied: protobuf!=4.24.0,<5.0.0,>=3.19.6 in ./.venv/lib/python3.10/site-packages (from tb-nightly->gfpgan) (4.25.3)\n",
            "Requirement already satisfied: setuptools>=41.0.0 in ./.venv/lib/python3.10/site-packages (from tb-nightly->gfpgan) (69.5.1)\n",
            "Requirement already satisfied: six>1.9 in ./.venv/lib/python3.10/site-packages (from tb-nightly->gfpgan) (1.16.0)\n",
            "Requirement already satisfied: tensorboard-data-server<0.8.0,>=0.7.0 in ./.venv/lib/python3.10/site-packages (from tb-nightly->gfpgan) (0.7.2)\n",
            "Requirement already satisfied: werkzeug>=1.0.1 in ./.venv/lib/python3.10/site-packages (from tb-nightly->gfpgan) (3.0.3)\n",
            "Requirement already satisfied: importlib-metadata>=6.6.0 in ./.venv/lib/python3.10/site-packages (from yapf->gfpgan) (7.1.0)\n",
            "Requirement already satisfied: platformdirs>=3.5.1 in ./.venv/lib/python3.10/site-packages (from yapf->gfpgan) (4.2.2)\n",
            "Requirement already satisfied: tomli>=2.0.1 in ./.venv/lib/python3.10/site-packages (from yapf->gfpgan) (2.0.1)\n",
            "Requirement already satisfied: zipp>=0.5 in ./.venv/lib/python3.10/site-packages (from importlib-metadata>=6.6.0->yapf->gfpgan) (3.18.1)\n",
            "Requirement already satisfied: MarkupSafe>=2.1.1 in ./.venv/lib/python3.10/site-packages (from werkzeug>=1.0.1->tb-nightly->gfpgan) (2.1.5)\n",
            "Requirement already satisfied: matplotlib in ./.venv/lib/python3.10/site-packages (from filterpy->facexlib>=0.2.5->gfpgan) (3.8.4)\n",
            "Requirement already satisfied: llvmlite<0.43,>=0.42.0dev0 in ./.venv/lib/python3.10/site-packages (from numba->facexlib>=0.2.5->gfpgan) (0.42.0)\n",
            "Requirement already satisfied: charset-normalizer<4,>=2 in ./.venv/lib/python3.10/site-packages (from requests->basicsr>=1.4.2->gfpgan) (3.3.2)\n",
            "Requirement already satisfied: idna<4,>=2.5 in ./.venv/lib/python3.10/site-packages (from requests->basicsr>=1.4.2->gfpgan) (3.7)\n",
            "Requirement already satisfied: urllib3<3,>=1.21.1 in ./.venv/lib/python3.10/site-packages (from requests->basicsr>=1.4.2->gfpgan) (2.2.1)\n",
            "Requirement already satisfied: certifi>=2017.4.17 in ./.venv/lib/python3.10/site-packages (from requests->basicsr>=1.4.2->gfpgan) (2024.2.2)\n",
            "Requirement already satisfied: imageio>=2.33 in ./.venv/lib/python3.10/site-packages (from scikit-image->basicsr>=1.4.2->gfpgan) (2.34.1)\n",
            "Requirement already satisfied: tifffile>=2022.8.12 in ./.venv/lib/python3.10/site-packages (from scikit-image->basicsr>=1.4.2->gfpgan) (2024.5.10)\n",
            "Requirement already satisfied: packaging>=21 in ./.venv/lib/python3.10/site-packages (from scikit-image->basicsr>=1.4.2->gfpgan) (24.0)\n",
            "Requirement already satisfied: lazy-loader>=0.4 in ./.venv/lib/python3.10/site-packages (from scikit-image->basicsr>=1.4.2->gfpgan) (0.4)\n",
            "Requirement already satisfied: mpmath>=0.19 in ./.venv/lib/python3.10/site-packages (from sympy->torch>=1.7->gfpgan) (1.3.0)\n",
            "Requirement already satisfied: contourpy>=1.0.1 in ./.venv/lib/python3.10/site-packages (from matplotlib->filterpy->facexlib>=0.2.5->gfpgan) (1.2.1)\n",
            "Requirement already satisfied: cycler>=0.10 in ./.venv/lib/python3.10/site-packages (from matplotlib->filterpy->facexlib>=0.2.5->gfpgan) (0.12.1)\n",
            "Requirement already satisfied: fonttools>=4.22.0 in ./.venv/lib/python3.10/site-packages (from matplotlib->filterpy->facexlib>=0.2.5->gfpgan) (4.51.0)\n",
            "Requirement already satisfied: kiwisolver>=1.3.1 in ./.venv/lib/python3.10/site-packages (from matplotlib->filterpy->facexlib>=0.2.5->gfpgan) (1.4.5)\n",
            "Requirement already satisfied: pyparsing>=2.3.1 in ./.venv/lib/python3.10/site-packages (from matplotlib->filterpy->facexlib>=0.2.5->gfpgan) (3.1.2)\n",
            "Requirement already satisfied: python-dateutil>=2.7 in ./.venv/lib/python3.10/site-packages (from matplotlib->filterpy->facexlib>=0.2.5->gfpgan) (2.9.0.post0)\n",
            "Requirement already satisfied: basicsr>=1.4.2 in ./.venv/lib/python3.10/site-packages (from -r requirements.txt (line 1)) (1.4.2)\n",
            "Requirement already satisfied: facexlib>=0.2.5 in ./.venv/lib/python3.10/site-packages (from -r requirements.txt (line 2)) (0.3.0)\n",
            "Requirement already satisfied: gfpgan>=1.3.5 in ./.venv/lib/python3.10/site-packages (from -r requirements.txt (line 3)) (1.3.8)\n",
            "Requirement already satisfied: numpy in ./.venv/lib/python3.10/site-packages (from -r requirements.txt (line 4)) (1.26.4)\n",
            "Requirement already satisfied: opencv-python in ./.venv/lib/python3.10/site-packages (from -r requirements.txt (line 5)) (4.9.0.80)\n",
            "Requirement already satisfied: Pillow in ./.venv/lib/python3.10/site-packages (from -r requirements.txt (line 6)) (10.3.0)\n",
            "Requirement already satisfied: torch==2.2.2 in ./.venv/lib/python3.10/site-packages (from -r requirements.txt (line 7)) (2.2.2+cu121)\n",
            "Requirement already satisfied: torchvision==0.17.2 in ./.venv/lib/python3.10/site-packages (from -r requirements.txt (line 8)) (0.17.2+cu121)\n",
            "Requirement already satisfied: tqdm in ./.venv/lib/python3.10/site-packages (from -r requirements.txt (line 9)) (4.66.4)\n",
            "Requirement already satisfied: filelock in ./.venv/lib/python3.10/site-packages (from torch==2.2.2->-r requirements.txt (line 7)) (3.14.0)\n",
            "Requirement already satisfied: typing-extensions>=4.8.0 in ./.venv/lib/python3.10/site-packages (from torch==2.2.2->-r requirements.txt (line 7)) (4.11.0)\n",
            "Requirement already satisfied: sympy in ./.venv/lib/python3.10/site-packages (from torch==2.2.2->-r requirements.txt (line 7)) (1.12)\n",
            "Requirement already satisfied: networkx in ./.venv/lib/python3.10/site-packages (from torch==2.2.2->-r requirements.txt (line 7)) (3.3)\n",
            "Requirement already satisfied: jinja2 in ./.venv/lib/python3.10/site-packages (from torch==2.2.2->-r requirements.txt (line 7)) (3.1.4)\n",
            "Requirement already satisfied: fsspec in ./.venv/lib/python3.10/site-packages (from torch==2.2.2->-r requirements.txt (line 7)) (2024.5.0)\n",
            "Requirement already satisfied: nvidia-cuda-nvrtc-cu12==12.1.105 in ./.venv/lib/python3.10/site-packages (from torch==2.2.2->-r requirements.txt (line 7)) (12.1.105)\n",
            "Requirement already satisfied: nvidia-cuda-runtime-cu12==12.1.105 in ./.venv/lib/python3.10/site-packages (from torch==2.2.2->-r requirements.txt (line 7)) (12.1.105)\n",
            "Requirement already satisfied: nvidia-cuda-cupti-cu12==12.1.105 in ./.venv/lib/python3.10/site-packages (from torch==2.2.2->-r requirements.txt (line 7)) (12.1.105)\n",
            "Requirement already satisfied: nvidia-cudnn-cu12==8.9.2.26 in ./.venv/lib/python3.10/site-packages (from torch==2.2.2->-r requirements.txt (line 7)) (8.9.2.26)\n",
            "Requirement already satisfied: nvidia-cublas-cu12==12.1.3.1 in ./.venv/lib/python3.10/site-packages (from torch==2.2.2->-r requirements.txt (line 7)) (12.1.3.1)\n",
            "Requirement already satisfied: nvidia-cufft-cu12==11.0.2.54 in ./.venv/lib/python3.10/site-packages (from torch==2.2.2->-r requirements.txt (line 7)) (11.0.2.54)\n",
            "Requirement already satisfied: nvidia-curand-cu12==10.3.2.106 in ./.venv/lib/python3.10/site-packages (from torch==2.2.2->-r requirements.txt (line 7)) (10.3.2.106)\n",
            "Requirement already satisfied: nvidia-cusolver-cu12==11.4.5.107 in ./.venv/lib/python3.10/site-packages (from torch==2.2.2->-r requirements.txt (line 7)) (11.4.5.107)\n",
            "Requirement already satisfied: nvidia-cusparse-cu12==12.1.0.106 in ./.venv/lib/python3.10/site-packages (from torch==2.2.2->-r requirements.txt (line 7)) (12.1.0.106)\n",
            "Requirement already satisfied: nvidia-nccl-cu12==2.19.3 in ./.venv/lib/python3.10/site-packages (from torch==2.2.2->-r requirements.txt (line 7)) (2.19.3)\n",
            "Requirement already satisfied: nvidia-nvtx-cu12==12.1.105 in ./.venv/lib/python3.10/site-packages (from torch==2.2.2->-r requirements.txt (line 7)) (12.1.105)\n",
            "Requirement already satisfied: triton==2.2.0 in ./.venv/lib/python3.10/site-packages (from torch==2.2.2->-r requirements.txt (line 7)) (2.2.0)\n",
            "Requirement already satisfied: nvidia-nvjitlink-cu12 in ./.venv/lib/python3.10/site-packages (from nvidia-cusolver-cu12==11.4.5.107->torch==2.2.2->-r requirements.txt (line 7)) (12.4.127)\n",
            "Requirement already satisfied: addict in ./.venv/lib/python3.10/site-packages (from basicsr>=1.4.2->-r requirements.txt (line 1)) (2.4.0)\n",
            "Requirement already satisfied: future in ./.venv/lib/python3.10/site-packages (from basicsr>=1.4.2->-r requirements.txt (line 1)) (1.0.0)\n",
            "Requirement already satisfied: lmdb in ./.venv/lib/python3.10/site-packages (from basicsr>=1.4.2->-r requirements.txt (line 1)) (1.4.1)\n",
            "Requirement already satisfied: pyyaml in ./.venv/lib/python3.10/site-packages (from basicsr>=1.4.2->-r requirements.txt (line 1)) (6.0.1)\n",
            "Requirement already satisfied: requests in ./.venv/lib/python3.10/site-packages (from basicsr>=1.4.2->-r requirements.txt (line 1)) (2.31.0)\n",
            "Requirement already satisfied: scikit-image in ./.venv/lib/python3.10/site-packages (from basicsr>=1.4.2->-r requirements.txt (line 1)) (0.23.2)\n",
            "Requirement already satisfied: scipy in ./.venv/lib/python3.10/site-packages (from basicsr>=1.4.2->-r requirements.txt (line 1)) (1.13.0)\n",
            "Requirement already satisfied: tb-nightly in ./.venv/lib/python3.10/site-packages (from basicsr>=1.4.2->-r requirements.txt (line 1)) (2.17.0a20240515)\n",
            "Requirement already satisfied: yapf in ./.venv/lib/python3.10/site-packages (from basicsr>=1.4.2->-r requirements.txt (line 1)) (0.40.2)\n",
            "Requirement already satisfied: filterpy in ./.venv/lib/python3.10/site-packages (from facexlib>=0.2.5->-r requirements.txt (line 2)) (1.4.5)\n",
            "Requirement already satisfied: numba in ./.venv/lib/python3.10/site-packages (from facexlib>=0.2.5->-r requirements.txt (line 2)) (0.59.1)\n",
            "Requirement already satisfied: matplotlib in ./.venv/lib/python3.10/site-packages (from filterpy->facexlib>=0.2.5->-r requirements.txt (line 2)) (3.8.4)\n",
            "Requirement already satisfied: MarkupSafe>=2.0 in ./.venv/lib/python3.10/site-packages (from jinja2->torch==2.2.2->-r requirements.txt (line 7)) (2.1.5)\n",
            "Requirement already satisfied: llvmlite<0.43,>=0.42.0dev0 in ./.venv/lib/python3.10/site-packages (from numba->facexlib>=0.2.5->-r requirements.txt (line 2)) (0.42.0)\n",
            "Requirement already satisfied: charset-normalizer<4,>=2 in ./.venv/lib/python3.10/site-packages (from requests->basicsr>=1.4.2->-r requirements.txt (line 1)) (3.3.2)\n",
            "Requirement already satisfied: idna<4,>=2.5 in ./.venv/lib/python3.10/site-packages (from requests->basicsr>=1.4.2->-r requirements.txt (line 1)) (3.7)\n",
            "Requirement already satisfied: urllib3<3,>=1.21.1 in ./.venv/lib/python3.10/site-packages (from requests->basicsr>=1.4.2->-r requirements.txt (line 1)) (2.2.1)\n",
            "Requirement already satisfied: certifi>=2017.4.17 in ./.venv/lib/python3.10/site-packages (from requests->basicsr>=1.4.2->-r requirements.txt (line 1)) (2024.2.2)\n",
            "Requirement already satisfied: imageio>=2.33 in ./.venv/lib/python3.10/site-packages (from scikit-image->basicsr>=1.4.2->-r requirements.txt (line 1)) (2.34.1)\n",
            "Requirement already satisfied: tifffile>=2022.8.12 in ./.venv/lib/python3.10/site-packages (from scikit-image->basicsr>=1.4.2->-r requirements.txt (line 1)) (2024.5.10)\n",
            "Requirement already satisfied: packaging>=21 in ./.venv/lib/python3.10/site-packages (from scikit-image->basicsr>=1.4.2->-r requirements.txt (line 1)) (24.0)\n",
            "Requirement already satisfied: lazy-loader>=0.4 in ./.venv/lib/python3.10/site-packages (from scikit-image->basicsr>=1.4.2->-r requirements.txt (line 1)) (0.4)\n",
            "Requirement already satisfied: mpmath>=0.19 in ./.venv/lib/python3.10/site-packages (from sympy->torch==2.2.2->-r requirements.txt (line 7)) (1.3.0)\n",
            "Requirement already satisfied: absl-py>=0.4 in ./.venv/lib/python3.10/site-packages (from tb-nightly->basicsr>=1.4.2->-r requirements.txt (line 1)) (2.1.0)\n",
            "Requirement already satisfied: grpcio>=1.48.2 in ./.venv/lib/python3.10/site-packages (from tb-nightly->basicsr>=1.4.2->-r requirements.txt (line 1)) (1.63.0)\n",
            "Requirement already satisfied: markdown>=2.6.8 in ./.venv/lib/python3.10/site-packages (from tb-nightly->basicsr>=1.4.2->-r requirements.txt (line 1)) (3.6)\n",
            "Requirement already satisfied: protobuf!=4.24.0,<5.0.0,>=3.19.6 in ./.venv/lib/python3.10/site-packages (from tb-nightly->basicsr>=1.4.2->-r requirements.txt (line 1)) (4.25.3)\n",
            "Requirement already satisfied: setuptools>=41.0.0 in ./.venv/lib/python3.10/site-packages (from tb-nightly->basicsr>=1.4.2->-r requirements.txt (line 1)) (69.5.1)\n",
            "Requirement already satisfied: six>1.9 in ./.venv/lib/python3.10/site-packages (from tb-nightly->basicsr>=1.4.2->-r requirements.txt (line 1)) (1.16.0)\n",
            "Requirement already satisfied: tensorboard-data-server<0.8.0,>=0.7.0 in ./.venv/lib/python3.10/site-packages (from tb-nightly->basicsr>=1.4.2->-r requirements.txt (line 1)) (0.7.2)\n",
            "Requirement already satisfied: werkzeug>=1.0.1 in ./.venv/lib/python3.10/site-packages (from tb-nightly->basicsr>=1.4.2->-r requirements.txt (line 1)) (3.0.3)\n",
            "Requirement already satisfied: importlib-metadata>=6.6.0 in ./.venv/lib/python3.10/site-packages (from yapf->basicsr>=1.4.2->-r requirements.txt (line 1)) (7.1.0)\n",
            "Requirement already satisfied: platformdirs>=3.5.1 in ./.venv/lib/python3.10/site-packages (from yapf->basicsr>=1.4.2->-r requirements.txt (line 1)) (4.2.2)\n",
            "Requirement already satisfied: tomli>=2.0.1 in ./.venv/lib/python3.10/site-packages (from yapf->basicsr>=1.4.2->-r requirements.txt (line 1)) (2.0.1)\n",
            "Requirement already satisfied: zipp>=0.5 in ./.venv/lib/python3.10/site-packages (from importlib-metadata>=6.6.0->yapf->basicsr>=1.4.2->-r requirements.txt (line 1)) (3.18.1)\n",
            "Requirement already satisfied: contourpy>=1.0.1 in ./.venv/lib/python3.10/site-packages (from matplotlib->filterpy->facexlib>=0.2.5->-r requirements.txt (line 2)) (1.2.1)\n",
            "Requirement already satisfied: cycler>=0.10 in ./.venv/lib/python3.10/site-packages (from matplotlib->filterpy->facexlib>=0.2.5->-r requirements.txt (line 2)) (0.12.1)\n",
            "Requirement already satisfied: fonttools>=4.22.0 in ./.venv/lib/python3.10/site-packages (from matplotlib->filterpy->facexlib>=0.2.5->-r requirements.txt (line 2)) (4.51.0)\n",
            "Requirement already satisfied: kiwisolver>=1.3.1 in ./.venv/lib/python3.10/site-packages (from matplotlib->filterpy->facexlib>=0.2.5->-r requirements.txt (line 2)) (1.4.5)\n",
            "Requirement already satisfied: pyparsing>=2.3.1 in ./.venv/lib/python3.10/site-packages (from matplotlib->filterpy->facexlib>=0.2.5->-r requirements.txt (line 2)) (3.1.2)\n",
            "Requirement already satisfied: python-dateutil>=2.7 in ./.venv/lib/python3.10/site-packages (from matplotlib->filterpy->facexlib>=0.2.5->-r requirements.txt (line 2)) (2.9.0.post0)\n",
            "fatal: detected dubious ownership in repository at '/home/nabila/projects/lume/super_resolution/Real-ESRGAN/Real-ESRGAN'\n",
            "To add an exception for this directory, call:\n",
            "\n",
            "\tgit config --global --add safe.directory /home/nabila/projects/lume/super_resolution/Real-ESRGAN/Real-ESRGAN\n",
            "/home/nabila/projects/lume/super_resolution/Real-ESRGAN/Real-ESRGAN/.venv/lib/python3.10/site-packages/setuptools/__init__.py:81: _DeprecatedInstaller: setuptools.installer and fetch_build_eggs are deprecated.\n",
            "!!\n",
            "\n",
            "        ********************************************************************************\n",
            "        Requirements should be satisfied by a PEP 517 installer.\n",
            "        If you are using pip, you can try `pip install --use-pep517`.\n",
            "        ********************************************************************************\n",
            "\n",
            "!!\n",
            "  dist.fetch_build_eggs(dist.setup_requires)\n",
            "WARNING: The wheel package is not available.\n",
            "running develop\n",
            "/home/nabila/projects/lume/super_resolution/Real-ESRGAN/Real-ESRGAN/.venv/lib/python3.10/site-packages/setuptools/command/develop.py:40: EasyInstallDeprecationWarning: easy_install command is deprecated.\n",
            "!!\n",
            "\n",
            "        ********************************************************************************\n",
            "        Please avoid running ``setup.py`` and ``easy_install``.\n",
            "        Instead, use pypa/build, pypa/installer or other\n",
            "        standards-based tools.\n",
            "\n",
            "        See https://github.com/pypa/setuptools/issues/917 for details.\n",
            "        ********************************************************************************\n",
            "\n",
            "!!\n",
            "  easy_install.initialize_options(self)\n",
            "/home/nabila/projects/lume/super_resolution/Real-ESRGAN/Real-ESRGAN/.venv/lib/python3.10/site-packages/setuptools/_distutils/cmd.py:66: SetuptoolsDeprecationWarning: setup.py install is deprecated.\n",
            "!!\n",
            "\n",
            "        ********************************************************************************\n",
            "        Please avoid running ``setup.py`` directly.\n",
            "        Instead, use pypa/build, pypa/installer or other\n",
            "        standards-based tools.\n",
            "\n",
            "        See https://blog.ganssle.io/articles/2021/10/setup-py-deprecated.html for details.\n",
            "        ********************************************************************************\n",
            "\n",
            "!!\n",
            "  self.initialize_options()\n",
            "running egg_info\n",
            "writing realesrgan.egg-info/PKG-INFO\n",
            "writing dependency_links to realesrgan.egg-info/dependency_links.txt\n",
            "writing requirements to realesrgan.egg-info/requires.txt\n",
            "writing top-level names to realesrgan.egg-info/top_level.txt\n",
            "reading manifest file 'realesrgan.egg-info/SOURCES.txt'\n",
            "reading manifest template 'MANIFEST.in'\n",
            "adding license file 'LICENSE'\n",
            "adding license file 'LICENSE:Zone.Identifier'\n",
            "writing manifest file 'realesrgan.egg-info/SOURCES.txt'\n",
            "running build_ext\n",
            "Creating /home/nabila/projects/lume/super_resolution/Real-ESRGAN/Real-ESRGAN/.venv/lib/python3.10/site-packages/realesrgan.egg-link (link to .)\n",
            "realesrgan 0.3.0 is already the active version in easy-install.pth\n",
            "\n",
            "Installed /home/nabila/projects/lume/super_resolution/Real-ESRGAN/Real-ESRGAN\n",
            "Processing dependencies for realesrgan==0.3.0\n",
            "Searching for tqdm==4.66.4\n",
            "Best match: tqdm 4.66.4\n",
            "Adding tqdm 4.66.4 to easy-install.pth file\n",
            "Installing tqdm script to /home/nabila/projects/lume/super_resolution/Real-ESRGAN/Real-ESRGAN/.venv/bin\n",
            "\n",
            "Using /home/nabila/projects/lume/super_resolution/Real-ESRGAN/Real-ESRGAN/.venv/lib/python3.10/site-packages\n",
            "Searching for torchvision==0.17.2+cu121\n",
            "Best match: torchvision 0.17.2+cu121\n",
            "Adding torchvision 0.17.2+cu121 to easy-install.pth file\n",
            "\n",
            "Using /home/nabila/projects/lume/super_resolution/Real-ESRGAN/Real-ESRGAN/.venv/lib/python3.10/site-packages\n",
            "Searching for torch==2.2.2+cu121\n",
            "Best match: torch 2.2.2+cu121\n",
            "Adding torch 2.2.2+cu121 to easy-install.pth file\n",
            "Installing convert-caffe2-to-onnx script to /home/nabila/projects/lume/super_resolution/Real-ESRGAN/Real-ESRGAN/.venv/bin\n",
            "Installing convert-onnx-to-caffe2 script to /home/nabila/projects/lume/super_resolution/Real-ESRGAN/Real-ESRGAN/.venv/bin\n",
            "Installing torchrun script to /home/nabila/projects/lume/super_resolution/Real-ESRGAN/Real-ESRGAN/.venv/bin\n",
            "\n",
            "Using /home/nabila/projects/lume/super_resolution/Real-ESRGAN/Real-ESRGAN/.venv/lib/python3.10/site-packages\n",
            "Searching for pillow==10.3.0\n",
            "Best match: pillow 10.3.0\n",
            "Adding pillow 10.3.0 to easy-install.pth file\n",
            "\n",
            "Using /home/nabila/projects/lume/super_resolution/Real-ESRGAN/Real-ESRGAN/.venv/lib/python3.10/site-packages\n",
            "Searching for opencv-python==4.9.0.80\n",
            "Best match: opencv-python 4.9.0.80\n",
            "Adding opencv-python 4.9.0.80 to easy-install.pth file\n",
            "\n",
            "Using /home/nabila/projects/lume/super_resolution/Real-ESRGAN/Real-ESRGAN/.venv/lib/python3.10/site-packages\n",
            "Searching for numpy==1.26.4\n",
            "Best match: numpy 1.26.4\n",
            "Adding numpy 1.26.4 to easy-install.pth file\n",
            "Installing f2py script to /home/nabila/projects/lume/super_resolution/Real-ESRGAN/Real-ESRGAN/.venv/bin\n",
            "\n",
            "Using /home/nabila/projects/lume/super_resolution/Real-ESRGAN/Real-ESRGAN/.venv/lib/python3.10/site-packages\n",
            "Searching for gfpgan==1.3.8\n",
            "Best match: gfpgan 1.3.8\n",
            "Adding gfpgan 1.3.8 to easy-install.pth file\n",
            "\n",
            "Using /home/nabila/projects/lume/super_resolution/Real-ESRGAN/Real-ESRGAN/.venv/lib/python3.10/site-packages\n",
            "Searching for facexlib==0.3.0\n",
            "Best match: facexlib 0.3.0\n",
            "Adding facexlib 0.3.0 to easy-install.pth file\n",
            "\n",
            "Using /home/nabila/projects/lume/super_resolution/Real-ESRGAN/Real-ESRGAN/.venv/lib/python3.10/site-packages\n",
            "Searching for basicsr==1.4.2\n",
            "Best match: basicsr 1.4.2\n",
            "Adding basicsr 1.4.2 to easy-install.pth file\n",
            "\n",
            "Using /home/nabila/projects/lume/super_resolution/Real-ESRGAN/Real-ESRGAN/.venv/lib/python3.10/site-packages\n",
            "Searching for triton==2.2.0\n",
            "Best match: triton 2.2.0\n",
            "Adding triton 2.2.0 to easy-install.pth file\n",
            "\n",
            "Using /home/nabila/projects/lume/super_resolution/Real-ESRGAN/Real-ESRGAN/.venv/lib/python3.10/site-packages\n",
            "Searching for nvidia-nvtx-cu12==12.1.105\n",
            "Best match: nvidia-nvtx-cu12 12.1.105\n",
            "Adding nvidia-nvtx-cu12 12.1.105 to easy-install.pth file\n",
            "\n",
            "Using /home/nabila/projects/lume/super_resolution/Real-ESRGAN/Real-ESRGAN/.venv/lib/python3.10/site-packages\n",
            "Searching for nvidia-nccl-cu12==2.19.3\n",
            "Best match: nvidia-nccl-cu12 2.19.3\n",
            "Adding nvidia-nccl-cu12 2.19.3 to easy-install.pth file\n",
            "\n",
            "Using /home/nabila/projects/lume/super_resolution/Real-ESRGAN/Real-ESRGAN/.venv/lib/python3.10/site-packages\n",
            "Searching for nvidia-cusparse-cu12==12.1.0.106\n",
            "Best match: nvidia-cusparse-cu12 12.1.0.106\n",
            "Adding nvidia-cusparse-cu12 12.1.0.106 to easy-install.pth file\n",
            "\n",
            "Using /home/nabila/projects/lume/super_resolution/Real-ESRGAN/Real-ESRGAN/.venv/lib/python3.10/site-packages\n",
            "Searching for nvidia-cusolver-cu12==11.4.5.107\n",
            "Best match: nvidia-cusolver-cu12 11.4.5.107\n",
            "Adding nvidia-cusolver-cu12 11.4.5.107 to easy-install.pth file\n",
            "\n",
            "Using /home/nabila/projects/lume/super_resolution/Real-ESRGAN/Real-ESRGAN/.venv/lib/python3.10/site-packages\n",
            "Searching for nvidia-curand-cu12==10.3.2.106\n",
            "Best match: nvidia-curand-cu12 10.3.2.106\n",
            "Adding nvidia-curand-cu12 10.3.2.106 to easy-install.pth file\n",
            "\n",
            "Using /home/nabila/projects/lume/super_resolution/Real-ESRGAN/Real-ESRGAN/.venv/lib/python3.10/site-packages\n",
            "Searching for nvidia-cufft-cu12==11.0.2.54\n",
            "Best match: nvidia-cufft-cu12 11.0.2.54\n",
            "Adding nvidia-cufft-cu12 11.0.2.54 to easy-install.pth file\n",
            "\n",
            "Using /home/nabila/projects/lume/super_resolution/Real-ESRGAN/Real-ESRGAN/.venv/lib/python3.10/site-packages\n",
            "Searching for nvidia-cublas-cu12==12.1.3.1\n",
            "Best match: nvidia-cublas-cu12 12.1.3.1\n",
            "Adding nvidia-cublas-cu12 12.1.3.1 to easy-install.pth file\n",
            "\n",
            "Using /home/nabila/projects/lume/super_resolution/Real-ESRGAN/Real-ESRGAN/.venv/lib/python3.10/site-packages\n",
            "Searching for nvidia-cudnn-cu12==8.9.2.26\n",
            "Best match: nvidia-cudnn-cu12 8.9.2.26\n",
            "Adding nvidia-cudnn-cu12 8.9.2.26 to easy-install.pth file\n",
            "\n",
            "Using /home/nabila/projects/lume/super_resolution/Real-ESRGAN/Real-ESRGAN/.venv/lib/python3.10/site-packages\n",
            "Searching for nvidia-cuda-cupti-cu12==12.1.105\n",
            "Best match: nvidia-cuda-cupti-cu12 12.1.105\n",
            "Adding nvidia-cuda-cupti-cu12 12.1.105 to easy-install.pth file\n",
            "\n",
            "Using /home/nabila/projects/lume/super_resolution/Real-ESRGAN/Real-ESRGAN/.venv/lib/python3.10/site-packages\n",
            "Searching for nvidia-cuda-runtime-cu12==12.1.105\n",
            "Best match: nvidia-cuda-runtime-cu12 12.1.105\n",
            "Adding nvidia-cuda-runtime-cu12 12.1.105 to easy-install.pth file\n",
            "\n",
            "Using /home/nabila/projects/lume/super_resolution/Real-ESRGAN/Real-ESRGAN/.venv/lib/python3.10/site-packages\n",
            "Searching for nvidia-cuda-nvrtc-cu12==12.1.105\n",
            "Best match: nvidia-cuda-nvrtc-cu12 12.1.105\n",
            "Adding nvidia-cuda-nvrtc-cu12 12.1.105 to easy-install.pth file\n",
            "\n",
            "Using /home/nabila/projects/lume/super_resolution/Real-ESRGAN/Real-ESRGAN/.venv/lib/python3.10/site-packages\n",
            "Searching for fsspec==2024.5.0\n",
            "Best match: fsspec 2024.5.0\n",
            "Adding fsspec 2024.5.0 to easy-install.pth file\n",
            "\n",
            "Using /home/nabila/projects/lume/super_resolution/Real-ESRGAN/Real-ESRGAN/.venv/lib/python3.10/site-packages\n",
            "Searching for jinja2==3.1.4\n",
            "Best match: jinja2 3.1.4\n",
            "Adding jinja2 3.1.4 to easy-install.pth file\n",
            "\n",
            "Using /home/nabila/projects/lume/super_resolution/Real-ESRGAN/Real-ESRGAN/.venv/lib/python3.10/site-packages\n",
            "Searching for networkx==3.3\n",
            "Best match: networkx 3.3\n",
            "Adding networkx 3.3 to easy-install.pth file\n",
            "\n",
            "Using /home/nabila/projects/lume/super_resolution/Real-ESRGAN/Real-ESRGAN/.venv/lib/python3.10/site-packages\n",
            "Searching for sympy==1.12\n",
            "Best match: sympy 1.12\n",
            "Adding sympy 1.12 to easy-install.pth file\n",
            "Installing isympy script to /home/nabila/projects/lume/super_resolution/Real-ESRGAN/Real-ESRGAN/.venv/bin\n",
            "\n",
            "Using /home/nabila/projects/lume/super_resolution/Real-ESRGAN/Real-ESRGAN/.venv/lib/python3.10/site-packages\n",
            "Searching for typing-extensions==4.11.0\n",
            "Best match: typing-extensions 4.11.0\n",
            "Adding typing-extensions 4.11.0 to easy-install.pth file\n",
            "\n",
            "Using /home/nabila/projects/lume/super_resolution/Real-ESRGAN/Real-ESRGAN/.venv/lib/python3.10/site-packages\n",
            "Searching for filelock==3.14.0\n",
            "Best match: filelock 3.14.0\n",
            "Adding filelock 3.14.0 to easy-install.pth file\n",
            "\n",
            "Using /home/nabila/projects/lume/super_resolution/Real-ESRGAN/Real-ESRGAN/.venv/lib/python3.10/site-packages\n",
            "Searching for yapf==0.40.2\n",
            "Best match: yapf 0.40.2\n",
            "Adding yapf 0.40.2 to easy-install.pth file\n",
            "Installing yapf script to /home/nabila/projects/lume/super_resolution/Real-ESRGAN/Real-ESRGAN/.venv/bin\n",
            "Installing yapf-diff script to /home/nabila/projects/lume/super_resolution/Real-ESRGAN/Real-ESRGAN/.venv/bin\n",
            "\n",
            "Using /home/nabila/projects/lume/super_resolution/Real-ESRGAN/Real-ESRGAN/.venv/lib/python3.10/site-packages\n",
            "Searching for tb-nightly==2.17.0a20240515\n",
            "Best match: tb-nightly 2.17.0a20240515\n",
            "Adding tb-nightly 2.17.0a20240515 to easy-install.pth file\n",
            "Installing tensorboard script to /home/nabila/projects/lume/super_resolution/Real-ESRGAN/Real-ESRGAN/.venv/bin\n",
            "\n",
            "Using /home/nabila/projects/lume/super_resolution/Real-ESRGAN/Real-ESRGAN/.venv/lib/python3.10/site-packages\n",
            "Searching for scipy==1.13.0\n",
            "Best match: scipy 1.13.0\n",
            "Adding scipy 1.13.0 to easy-install.pth file\n",
            "\n",
            "Using /home/nabila/projects/lume/super_resolution/Real-ESRGAN/Real-ESRGAN/.venv/lib/python3.10/site-packages\n",
            "Searching for PyYAML==6.0.1\n",
            "Best match: PyYAML 6.0.1\n",
            "Adding PyYAML 6.0.1 to easy-install.pth file\n",
            "\n",
            "Using /home/nabila/projects/lume/super_resolution/Real-ESRGAN/Real-ESRGAN/.venv/lib/python3.10/site-packages\n",
            "Searching for lmdb==1.4.1\n",
            "Best match: lmdb 1.4.1\n",
            "Adding lmdb 1.4.1 to easy-install.pth file\n",
            "\n",
            "Using /home/nabila/projects/lume/super_resolution/Real-ESRGAN/Real-ESRGAN/.venv/lib/python3.10/site-packages\n",
            "Searching for numba==0.59.1\n",
            "Best match: numba 0.59.1\n",
            "Adding numba 0.59.1 to easy-install.pth file\n",
            "\n",
            "Using /home/nabila/projects/lume/super_resolution/Real-ESRGAN/Real-ESRGAN/.venv/lib/python3.10/site-packages\n",
            "Searching for filterpy==1.4.5\n",
            "Best match: filterpy 1.4.5\n",
            "Adding filterpy 1.4.5 to easy-install.pth file\n",
            "\n",
            "Using /home/nabila/projects/lume/super_resolution/Real-ESRGAN/Real-ESRGAN/.venv/lib/python3.10/site-packages\n",
            "Searching for scikit-image==0.23.2\n",
            "Best match: scikit-image 0.23.2\n",
            "Adding scikit-image 0.23.2 to easy-install.pth file\n",
            "\n",
            "Using /home/nabila/projects/lume/super_resolution/Real-ESRGAN/Real-ESRGAN/.venv/lib/python3.10/site-packages\n",
            "Searching for requests==2.31.0\n",
            "Best match: requests 2.31.0\n",
            "Adding requests 2.31.0 to easy-install.pth file\n",
            "\n",
            "Using /home/nabila/projects/lume/super_resolution/Real-ESRGAN/Real-ESRGAN/.venv/lib/python3.10/site-packages\n",
            "Searching for future==1.0.0\n",
            "Best match: future 1.0.0\n",
            "Adding future 1.0.0 to easy-install.pth file\n",
            "Installing futurize script to /home/nabila/projects/lume/super_resolution/Real-ESRGAN/Real-ESRGAN/.venv/bin\n",
            "Installing pasteurize script to /home/nabila/projects/lume/super_resolution/Real-ESRGAN/Real-ESRGAN/.venv/bin\n",
            "\n",
            "Using /home/nabila/projects/lume/super_resolution/Real-ESRGAN/Real-ESRGAN/.venv/lib/python3.10/site-packages\n",
            "Searching for addict==2.4.0\n",
            "Best match: addict 2.4.0\n",
            "Adding addict 2.4.0 to easy-install.pth file\n",
            "\n",
            "Using /home/nabila/projects/lume/super_resolution/Real-ESRGAN/Real-ESRGAN/.venv/lib/python3.10/site-packages\n",
            "Searching for nvidia-nvjitlink-cu12==12.4.127\n",
            "Best match: nvidia-nvjitlink-cu12 12.4.127\n",
            "Adding nvidia-nvjitlink-cu12 12.4.127 to easy-install.pth file\n",
            "\n",
            "Using /home/nabila/projects/lume/super_resolution/Real-ESRGAN/Real-ESRGAN/.venv/lib/python3.10/site-packages\n",
            "Searching for MarkupSafe==2.1.5\n",
            "Best match: MarkupSafe 2.1.5\n",
            "Adding MarkupSafe 2.1.5 to easy-install.pth file\n",
            "\n",
            "Using /home/nabila/projects/lume/super_resolution/Real-ESRGAN/Real-ESRGAN/.venv/lib/python3.10/site-packages\n",
            "Searching for mpmath==1.3.0\n",
            "Best match: mpmath 1.3.0\n",
            "Adding mpmath 1.3.0 to easy-install.pth file\n",
            "\n",
            "Using /home/nabila/projects/lume/super_resolution/Real-ESRGAN/Real-ESRGAN/.venv/lib/python3.10/site-packages\n",
            "Searching for tomli==2.0.1\n",
            "Best match: tomli 2.0.1\n",
            "Adding tomli 2.0.1 to easy-install.pth file\n",
            "\n",
            "Using /home/nabila/projects/lume/super_resolution/Real-ESRGAN/Real-ESRGAN/.venv/lib/python3.10/site-packages\n",
            "Searching for platformdirs==4.2.2\n",
            "Best match: platformdirs 4.2.2\n",
            "Adding platformdirs 4.2.2 to easy-install.pth file\n",
            "\n",
            "Using /home/nabila/projects/lume/super_resolution/Real-ESRGAN/Real-ESRGAN/.venv/lib/python3.10/site-packages\n",
            "Searching for importlib-metadata==7.1.0\n",
            "Best match: importlib-metadata 7.1.0\n",
            "Adding importlib-metadata 7.1.0 to easy-install.pth file\n",
            "\n",
            "Using /home/nabila/projects/lume/super_resolution/Real-ESRGAN/Real-ESRGAN/.venv/lib/python3.10/site-packages\n",
            "Searching for werkzeug==3.0.3\n",
            "Best match: werkzeug 3.0.3\n",
            "Adding werkzeug 3.0.3 to easy-install.pth file\n",
            "\n",
            "Using /home/nabila/projects/lume/super_resolution/Real-ESRGAN/Real-ESRGAN/.venv/lib/python3.10/site-packages\n",
            "Searching for tensorboard-data-server==0.7.2\n",
            "Best match: tensorboard-data-server 0.7.2\n",
            "Adding tensorboard-data-server 0.7.2 to easy-install.pth file\n",
            "\n",
            "Using /home/nabila/projects/lume/super_resolution/Real-ESRGAN/Real-ESRGAN/.venv/lib/python3.10/site-packages\n",
            "Searching for six==1.16.0\n",
            "Best match: six 1.16.0\n",
            "Adding six 1.16.0 to easy-install.pth file\n",
            "\n",
            "Using /home/nabila/projects/lume/super_resolution/Real-ESRGAN/Real-ESRGAN/.venv/lib/python3.10/site-packages\n",
            "Searching for setuptools==69.5.1\n",
            "Best match: setuptools 69.5.1\n",
            "Adding setuptools 69.5.1 to easy-install.pth file\n",
            "\n",
            "Using /home/nabila/projects/lume/super_resolution/Real-ESRGAN/Real-ESRGAN/.venv/lib/python3.10/site-packages\n",
            "Searching for protobuf==4.25.3\n",
            "Best match: protobuf 4.25.3\n",
            "Adding protobuf 4.25.3 to easy-install.pth file\n",
            "\n",
            "Using /home/nabila/projects/lume/super_resolution/Real-ESRGAN/Real-ESRGAN/.venv/lib/python3.10/site-packages\n",
            "Searching for Markdown==3.6\n",
            "Best match: Markdown 3.6\n",
            "Adding Markdown 3.6 to easy-install.pth file\n",
            "Installing markdown_py script to /home/nabila/projects/lume/super_resolution/Real-ESRGAN/Real-ESRGAN/.venv/bin\n",
            "\n",
            "Using /home/nabila/projects/lume/super_resolution/Real-ESRGAN/Real-ESRGAN/.venv/lib/python3.10/site-packages\n",
            "Searching for grpcio==1.63.0\n",
            "Best match: grpcio 1.63.0\n",
            "Adding grpcio 1.63.0 to easy-install.pth file\n",
            "\n",
            "Using /home/nabila/projects/lume/super_resolution/Real-ESRGAN/Real-ESRGAN/.venv/lib/python3.10/site-packages\n",
            "Searching for absl-py==2.1.0\n",
            "Best match: absl-py 2.1.0\n",
            "Adding absl-py 2.1.0 to easy-install.pth file\n",
            "\n",
            "Using /home/nabila/projects/lume/super_resolution/Real-ESRGAN/Real-ESRGAN/.venv/lib/python3.10/site-packages\n",
            "Searching for llvmlite==0.42.0\n",
            "Best match: llvmlite 0.42.0\n",
            "Adding llvmlite 0.42.0 to easy-install.pth file\n",
            "\n",
            "Using /home/nabila/projects/lume/super_resolution/Real-ESRGAN/Real-ESRGAN/.venv/lib/python3.10/site-packages\n",
            "Searching for matplotlib==3.8.4\n",
            "Best match: matplotlib 3.8.4\n",
            "Adding matplotlib 3.8.4 to easy-install.pth file\n",
            "\n",
            "Using /home/nabila/projects/lume/super_resolution/Real-ESRGAN/Real-ESRGAN/.venv/lib/python3.10/site-packages\n",
            "Searching for lazy-loader==0.4\n",
            "Best match: lazy-loader 0.4\n",
            "Adding lazy-loader 0.4 to easy-install.pth file\n",
            "\n",
            "Using /home/nabila/projects/lume/super_resolution/Real-ESRGAN/Real-ESRGAN/.venv/lib/python3.10/site-packages\n",
            "Searching for packaging==24.0\n",
            "Best match: packaging 24.0\n",
            "Adding packaging 24.0 to easy-install.pth file\n",
            "\n",
            "Using /home/nabila/projects/lume/super_resolution/Real-ESRGAN/Real-ESRGAN/.venv/lib/python3.10/site-packages\n",
            "Searching for tifffile==2024.5.10\n",
            "Best match: tifffile 2024.5.10\n",
            "Adding tifffile 2024.5.10 to easy-install.pth file\n",
            "Installing lsm2bin script to /home/nabila/projects/lume/super_resolution/Real-ESRGAN/Real-ESRGAN/.venv/bin\n",
            "Installing tiff2fsspec script to /home/nabila/projects/lume/super_resolution/Real-ESRGAN/Real-ESRGAN/.venv/bin\n",
            "Installing tiffcomment script to /home/nabila/projects/lume/super_resolution/Real-ESRGAN/Real-ESRGAN/.venv/bin\n",
            "Installing tifffile script to /home/nabila/projects/lume/super_resolution/Real-ESRGAN/Real-ESRGAN/.venv/bin\n",
            "\n",
            "Using /home/nabila/projects/lume/super_resolution/Real-ESRGAN/Real-ESRGAN/.venv/lib/python3.10/site-packages\n",
            "Searching for imageio==2.34.1\n",
            "Best match: imageio 2.34.1\n",
            "Adding imageio 2.34.1 to easy-install.pth file\n",
            "Installing imageio_download_bin script to /home/nabila/projects/lume/super_resolution/Real-ESRGAN/Real-ESRGAN/.venv/bin\n",
            "Installing imageio_remove_bin script to /home/nabila/projects/lume/super_resolution/Real-ESRGAN/Real-ESRGAN/.venv/bin\n",
            "\n",
            "Using /home/nabila/projects/lume/super_resolution/Real-ESRGAN/Real-ESRGAN/.venv/lib/python3.10/site-packages\n",
            "Searching for certifi==2024.2.2\n",
            "Best match: certifi 2024.2.2\n",
            "Adding certifi 2024.2.2 to easy-install.pth file\n",
            "\n",
            "Using /home/nabila/projects/lume/super_resolution/Real-ESRGAN/Real-ESRGAN/.venv/lib/python3.10/site-packages\n",
            "Searching for urllib3==2.2.1\n",
            "Best match: urllib3 2.2.1\n",
            "Adding urllib3 2.2.1 to easy-install.pth file\n",
            "\n",
            "Using /home/nabila/projects/lume/super_resolution/Real-ESRGAN/Real-ESRGAN/.venv/lib/python3.10/site-packages\n",
            "Searching for idna==3.7\n",
            "Best match: idna 3.7\n",
            "Adding idna 3.7 to easy-install.pth file\n",
            "\n",
            "Using /home/nabila/projects/lume/super_resolution/Real-ESRGAN/Real-ESRGAN/.venv/lib/python3.10/site-packages\n",
            "Searching for charset-normalizer==3.3.2\n",
            "Best match: charset-normalizer 3.3.2\n",
            "Adding charset-normalizer 3.3.2 to easy-install.pth file\n",
            "Installing normalizer script to /home/nabila/projects/lume/super_resolution/Real-ESRGAN/Real-ESRGAN/.venv/bin\n",
            "\n",
            "Using /home/nabila/projects/lume/super_resolution/Real-ESRGAN/Real-ESRGAN/.venv/lib/python3.10/site-packages\n",
            "Searching for zipp==3.18.1\n",
            "Best match: zipp 3.18.1\n",
            "Adding zipp 3.18.1 to easy-install.pth file\n",
            "\n",
            "Using /home/nabila/projects/lume/super_resolution/Real-ESRGAN/Real-ESRGAN/.venv/lib/python3.10/site-packages\n",
            "Searching for python-dateutil==2.9.0.post0\n",
            "Best match: python-dateutil 2.9.0.post0\n",
            "Adding python-dateutil 2.9.0.post0 to easy-install.pth file\n",
            "\n",
            "Using /home/nabila/projects/lume/super_resolution/Real-ESRGAN/Real-ESRGAN/.venv/lib/python3.10/site-packages\n",
            "Searching for pyparsing==3.1.2\n",
            "Best match: pyparsing 3.1.2\n",
            "Adding pyparsing 3.1.2 to easy-install.pth file\n",
            "\n",
            "Using /home/nabila/projects/lume/super_resolution/Real-ESRGAN/Real-ESRGAN/.venv/lib/python3.10/site-packages\n",
            "Searching for kiwisolver==1.4.5\n",
            "Best match: kiwisolver 1.4.5\n",
            "Adding kiwisolver 1.4.5 to easy-install.pth file\n",
            "\n",
            "Using /home/nabila/projects/lume/super_resolution/Real-ESRGAN/Real-ESRGAN/.venv/lib/python3.10/site-packages\n",
            "Searching for fonttools==4.51.0\n",
            "Best match: fonttools 4.51.0\n",
            "Adding fonttools 4.51.0 to easy-install.pth file\n",
            "Installing fonttools script to /home/nabila/projects/lume/super_resolution/Real-ESRGAN/Real-ESRGAN/.venv/bin\n",
            "Installing pyftmerge script to /home/nabila/projects/lume/super_resolution/Real-ESRGAN/Real-ESRGAN/.venv/bin\n",
            "Installing pyftsubset script to /home/nabila/projects/lume/super_resolution/Real-ESRGAN/Real-ESRGAN/.venv/bin\n",
            "Installing ttx script to /home/nabila/projects/lume/super_resolution/Real-ESRGAN/Real-ESRGAN/.venv/bin\n",
            "\n",
            "Using /home/nabila/projects/lume/super_resolution/Real-ESRGAN/Real-ESRGAN/.venv/lib/python3.10/site-packages\n",
            "Searching for cycler==0.12.1\n",
            "Best match: cycler 0.12.1\n",
            "Adding cycler 0.12.1 to easy-install.pth file\n",
            "\n",
            "Using /home/nabila/projects/lume/super_resolution/Real-ESRGAN/Real-ESRGAN/.venv/lib/python3.10/site-packages\n",
            "Searching for contourpy==1.2.1\n",
            "Best match: contourpy 1.2.1\n",
            "Adding contourpy 1.2.1 to easy-install.pth file\n",
            "\n",
            "Using /home/nabila/projects/lume/super_resolution/Real-ESRGAN/Real-ESRGAN/.venv/lib/python3.10/site-packages\n",
            "Finished processing dependencies for realesrgan==0.3.0\n",
            "Requirement already satisfied: piqa in ./.venv/lib/python3.10/site-packages (1.3.2)\n",
            "Requirement already satisfied: torch>=1.12.0 in ./.venv/lib/python3.10/site-packages (from piqa) (2.2.2+cu121)\n",
            "Requirement already satisfied: torchvision>=0.13.0 in ./.venv/lib/python3.10/site-packages (from piqa) (0.17.2+cu121)\n",
            "Requirement already satisfied: filelock in ./.venv/lib/python3.10/site-packages (from torch>=1.12.0->piqa) (3.14.0)\n",
            "Requirement already satisfied: typing-extensions>=4.8.0 in ./.venv/lib/python3.10/site-packages (from torch>=1.12.0->piqa) (4.11.0)\n",
            "Requirement already satisfied: sympy in ./.venv/lib/python3.10/site-packages (from torch>=1.12.0->piqa) (1.12)\n",
            "Requirement already satisfied: networkx in ./.venv/lib/python3.10/site-packages (from torch>=1.12.0->piqa) (3.3)\n",
            "Requirement already satisfied: jinja2 in ./.venv/lib/python3.10/site-packages (from torch>=1.12.0->piqa) (3.1.4)\n",
            "Requirement already satisfied: fsspec in ./.venv/lib/python3.10/site-packages (from torch>=1.12.0->piqa) (2024.5.0)\n",
            "Requirement already satisfied: nvidia-cuda-nvrtc-cu12==12.1.105 in ./.venv/lib/python3.10/site-packages (from torch>=1.12.0->piqa) (12.1.105)\n",
            "Requirement already satisfied: nvidia-cuda-runtime-cu12==12.1.105 in ./.venv/lib/python3.10/site-packages (from torch>=1.12.0->piqa) (12.1.105)\n",
            "Requirement already satisfied: nvidia-cuda-cupti-cu12==12.1.105 in ./.venv/lib/python3.10/site-packages (from torch>=1.12.0->piqa) (12.1.105)\n",
            "Requirement already satisfied: nvidia-cudnn-cu12==8.9.2.26 in ./.venv/lib/python3.10/site-packages (from torch>=1.12.0->piqa) (8.9.2.26)\n",
            "Requirement already satisfied: nvidia-cublas-cu12==12.1.3.1 in ./.venv/lib/python3.10/site-packages (from torch>=1.12.0->piqa) (12.1.3.1)\n",
            "Requirement already satisfied: nvidia-cufft-cu12==11.0.2.54 in ./.venv/lib/python3.10/site-packages (from torch>=1.12.0->piqa) (11.0.2.54)\n",
            "Requirement already satisfied: nvidia-curand-cu12==10.3.2.106 in ./.venv/lib/python3.10/site-packages (from torch>=1.12.0->piqa) (10.3.2.106)\n",
            "Requirement already satisfied: nvidia-cusolver-cu12==11.4.5.107 in ./.venv/lib/python3.10/site-packages (from torch>=1.12.0->piqa) (11.4.5.107)\n",
            "Requirement already satisfied: nvidia-cusparse-cu12==12.1.0.106 in ./.venv/lib/python3.10/site-packages (from torch>=1.12.0->piqa) (12.1.0.106)\n",
            "Requirement already satisfied: nvidia-nccl-cu12==2.19.3 in ./.venv/lib/python3.10/site-packages (from torch>=1.12.0->piqa) (2.19.3)\n",
            "Requirement already satisfied: nvidia-nvtx-cu12==12.1.105 in ./.venv/lib/python3.10/site-packages (from torch>=1.12.0->piqa) (12.1.105)\n",
            "Requirement already satisfied: triton==2.2.0 in ./.venv/lib/python3.10/site-packages (from torch>=1.12.0->piqa) (2.2.0)\n",
            "Requirement already satisfied: nvidia-nvjitlink-cu12 in ./.venv/lib/python3.10/site-packages (from nvidia-cusolver-cu12==11.4.5.107->torch>=1.12.0->piqa) (12.4.127)\n",
            "Requirement already satisfied: numpy in ./.venv/lib/python3.10/site-packages (from torchvision>=0.13.0->piqa) (1.26.4)\n",
            "Requirement already satisfied: pillow!=8.3.*,>=5.3.0 in ./.venv/lib/python3.10/site-packages (from torchvision>=0.13.0->piqa) (10.3.0)\n",
            "Requirement already satisfied: MarkupSafe>=2.0 in ./.venv/lib/python3.10/site-packages (from jinja2->torch>=1.12.0->piqa) (2.1.5)\n",
            "Requirement already satisfied: mpmath>=0.19 in ./.venv/lib/python3.10/site-packages (from sympy->torch>=1.12.0->piqa) (1.3.0)\n"
          ]
        }
      ],
      "source": [
        "import os\n",
        "# Install basicsr - https://github.com/xinntao/BasicSR\n",
        "# We use BasicSR for both training and inference\n",
        "!pip install basicsr\n",
        "# facexlib and gfpgan are for face enhancement\n",
        "!pip install facexlib\n",
        "!pip install gfpgan\n",
        "!pip install -r requirements.txt\n",
        "!python setup.py develop\n",
        "!pip install piqa"
      ]
    },
    {
      "cell_type": "markdown",
      "metadata": {
        "id": "_OajYr-bK3Fh"
      },
      "source": [
        "**Training**"
      ]
    },
    {
      "cell_type": "markdown",
      "metadata": {
        "id": "iryB7d6-P2zo"
      },
      "source": [
        "You will need to download via the code below the architecture dataset from kaggle (https://www.kaggle.com/datasets/tompaulat/modernarchitecture). In order to do so, you must have a kaggle account and download a kaggle.json file. After you have downloaded it or if you have one available, upload it with the cell below."
      ]
    },
    {
      "cell_type": "code",
      "execution_count": 4,
      "metadata": {
        "colab": {
          "base_uri": "https://localhost:8080/",
          "height": 90
        },
        "id": "JfHu1ONC8Nih",
        "outputId": "8a041220-a2d3-49e7-c8dd-dff14be53a4d"
      },
      "outputs": [],
      "source": [
        "# from google.colab import files\n",
        "# files.upload() #this will prompt you to upload the kaggle.json\n",
        "\n",
        "# This cell will install kaggle support and download the modernarchitecture dataset and unpack it.\n",
        "# !ls -lha kaggle.json\n",
        "# !pip install -q kaggle\n",
        "# !mkdir -p ~/.kaggle\n",
        "# !cp kaggle.json ~/.kaggle/\n",
        "# !chmod 600 /root/.kaggle/kaggle.json\n",
        "# !kaggle datasets download -d tompaulat/modernarchitecture\n",
        "# !mkdir datasets\n",
        "# !unzip modernarchitecture.zip -d datasets/modernarchitecture\n",
        "\n",
        "# Here we will unzip the dataset into a folder to access the images\n",
        "# !mkdir datasets\n",
        "# !unzip modernarchitecture.zip -d datasets/modernarchitecture\n",
        "\n",
        "# We shall divide the images into 3 folders/datasets: train, test and validation.\n",
        "'''\n",
        "!mkdir f\"{dataset_path}\"/validation/\n",
        "!mkdir f\"{input_path}\"/validation/hq/\n",
        "!mkdir f\"{input_path}\"/test/\n",
        "!mkdir f\"{input_path}\"/test/hq/\n",
        "!mkdir f\"{input_path}\"/train/\n",
        "'''\n",
        "\n",
        "# !mv -v datasets/modernarchitecture/Appartments/Appartments/X-Z/*.jpg datasets/modernarchitecture/validation/hq/\n",
        "# !mv -v datasets/modernarchitecture/Public_Buildings/Public_Buildings/X-Z/*.jpg datasets/modernarchitecture/validation/hq/\n",
        "\n",
        "# !mv -v datasets/modernarchitecture/Appartments/Appartments/F-H/F* datasets/modernarchitecture/test/hq/\n",
        "# !mv -v datasets/modernarchitecture/Appartments/Appartments/F-H/* datasets/modernarchitecture/test/hq/\n",
        "# !mv -v datasets/modernarchitecture/Public_Buildings/Public_Buildings/F-H/*.jpg datasets/modernarchitecture/test/hq/\n",
        "\n",
        "# !mv -v datasets/modernarchitecture/Appartments/Appartments/R-T/R*.jpg datasets/modernarchitecture/train/\n",
        "# !for d in datasets/modernarchitecture/Appartments/Appartments/*; do mv -v $d/*.jpg datasets/modernarchitecture/train/; done\n",
        "# !for d in datasets/modernarchitecture/Public_Buildings/Public_Buildings/*; do mv -v $d/*.jpg datasets/modernarchitecture/train/; done\n",
        "\n",
        "# !mv \"datasets/modernarchitecture/Public Buildings/\"  datasets/modernarchitecture/Public_Buildings\n",
        "# !mv \"datasets/modernarchitecture/Public_Buildings/Public Buildings\"  datasets/modernarchitecture/Public_Buildings/Public_Buildings\n",
        "\n",
        "# The original file names have spaces in them. This causes proble,s to future scripts and functions, So we will replace the spaces with lower dash \"_\".\n",
        "\n",
        "'''!for f in datasets/modernarchitecture/train/*; do mv \"$f\" `echo $f | tr ' ' '_'`; done\n",
        "!for f in datasets/modernarchitecture/validation/hq/*; do mv \"$f\" `echo $f | tr ' ' '_'`; done\n",
        "!for f in datasets/modernarchitecture/test/hq/*; do mv \"$f\" `echo $f | tr ' ' '_'`; done'''"
      ]
    },
    {
      "cell_type": "markdown",
      "metadata": {},
      "source": [
        "We have low quality (LQ) images at the input (train and test) and high quality images (HQ) at the output. HQ images are used as ground-truth.\n",
        "The follow steps are in 'github.com/xinntao/Real-ESRGAN/blob/master/docs/Training.md'\n",
        "\n",
        "The scheme path to the directorys are:\n",
        "\n",
        "- datasets/\n",
        "    - meta_info_train.txt\n",
        "    - meta_info_pair.txt\n",
        "    - input\n",
        "    - output\n",
        "    - test\n",
        "        - lq\n",
        "            - 00\n",
        "                - 00_image.png\n",
        "            - 01\n",
        "            ( ... )\n",
        "        - hq\n",
        "            - 00\n",
        "                - 00_image.png\n",
        "            - 01\n",
        "            ( ... )\n",
        "    - train\n",
        "        - 05_image.png\n",
        "          ( ... )\n",
        "    - validation\n",
        "        - lq\n",
        "            - 03\n",
        "                - 03_image.png\n",
        "            - 04\n",
        "            ( ... )\n",
        "        - hq\n",
        "            - 03\n",
        "                - 03_image.png\n",
        "            - 04\n",
        "            ( ... )"
      ]
    },
    {
      "cell_type": "code",
      "execution_count": null,
      "metadata": {},
      "outputs": [],
      "source": [
        "!cp -v /mnt/d/Dev/Projects/Lume/super_resolution/datasets/input/splited_images/00/*.png /mnt/d/Dev/Projects/Lume/super_resolution/datasets/validation/lq/ # (9k img)\n",
        "!cp -v /mnt/d/Dev/Projects/Lume/super_resolution/datasets/output/original_imgs/00/*.png /mnt/d/Dev/Projects/Lume/super_resolution/datasets/validation/hq/ # (9k img)\n",
        "\n",
        "# test\n",
        "!cp -v /mnt/d/Dev/Projects/Lume/super_resolution/datasets/input/splited_images/01/*.png /mnt/d/Dev/Projects/Lume/super_resolution/datasets/test/lq/ # 11k\n",
        "\n",
        "# train\n",
        "!cp -v /mnt/d/Dev/Projects/Lume/super_resolution/datasets/input/splited_images/02/*.png /mnt/d/Dev/Projects/Lume/super_resolution/datasets/train/ # 20k\n",
        "!cp -v /mnt/d/Dev/Projects/Lume/super_resolution/datasets/input/splited_images/03/*.png /mnt/d/Dev/Projects/Lume/super_resolution/datasets/train/ # 22k img\n",
        "find /mnt/d/Dev/Projects/Lume/super_resolution/datasets/input/splited_images/02/ -name \"*.png\" -type f -print0 | xargs -0 -I {} cp -v {} /mnt/d/Dev/Projects/Lume/super_resolution/datasets/train/"
      ]
    },
    {
      "cell_type": "code",
      "execution_count": 36,
      "metadata": {},
      "outputs": [],
      "source": [
        "dataset_path = \"/mnt/d/Dev/Projects/Lume/super_resolution/datasets/\"\n",
        "input_path = os.path.join(f\"{dataset_path}\",\"input\",\"splited_images\") # LQ\n",
        "output_path = os.path.join(f\"{dataset_path}\",\"output\",\"original_imgs\") # HQ\n",
        "\n",
        "# Directories for train, test, and validation splits\n",
        "train_dir = os.path.join(f\"{dataset_path}\", \"train\")\n",
        "test_dir_hq = os.path.join(f\"{dataset_path}\",\"test\" ,\"hq\")\n",
        "test_dir_lq = os.path.join(f\"{dataset_path}\",\"test\" ,\"lq\")\n",
        "val_dir_hq = os.path.join(f\"{dataset_path}\", \"validation\", \"hq\")\n",
        "val_dir_lq = os.path.join(f\"{dataset_path}\", \"validation\", \"lq\")\n",
        "\n",
        "# Createthe directorys if they not exists\n",
        "if not os.path.exists(train_dir):\n",
        "    os.makedirs(train_dir, exist_ok=True)\n",
        "if not os.path.exists(test_dir):\n",
        "    os.makedirs(test_dir, exist_ok=True)\n",
        "if not os.path.exists(val_dir):\n",
        "    os.makedirs(val_dir, exist_ok=True)"
      ]
    },
    {
      "cell_type": "markdown",
      "metadata": {},
      "source": [
        "Rename the files in the output folder so that they have the same file name as the input folder"
      ]
    },
    {
      "cell_type": "code",
      "execution_count": null,
      "metadata": {},
      "outputs": [],
      "source": [
        "import os\n",
        "\n",
        "# rename validation files name\n",
        "def rename_files(directory):\n",
        "    # List all files in the specified directory\n",
        "    files = os.listdir(directory)\n",
        "    print(f\"path {directory}\")\n",
        "    for file in files:\n",
        "        # Check if the file name contains \"_original\"\n",
        "        print(f\"checking file: {file}\")\n",
        "        if '_original' in file:\n",
        "            # Generate the new file name by removing \"_original\"\n",
        "            new_name = file.replace('_original', '')\n",
        "\n",
        "            # Rename the file\n",
        "            os.rename(os.path.join(directory, file), os.path.join(directory, new_name))\n",
        "\n",
        "\n",
        "# Rename the files\n",
        "rename_files(val_dir_hq)\n",
        "rename_files(val_dir_lq)"
      ]
    },
    {
      "cell_type": "markdown",
      "metadata": {},
      "source": [
        "if you want to organize the dataset directories to the format: datasets > input > 00 > 00_image.png"
      ]
    },
    {
      "cell_type": "code",
      "execution_count": null,
      "metadata": {},
      "outputs": [],
      "source": [
        "def organize_files(base_directory):\n",
        "    # List all files in the base directory\n",
        "    files = os.listdir(base_directory)\n",
        "    print(f\"Organizando {base_directory}...\")\n",
        "\n",
        "    for file in files:\n",
        "        # Skip directories, we only want to move files\n",
        "        if os.path.isfile(os.path.join(base_directory, file)):\n",
        "            # Extract the prefix (first two characters) from the filename\n",
        "            prefix = file[:2]\n",
        "            print(f\"Ordem {prefix}...\")\n",
        "\n",
        "            # Create a new directory with the prefix if it doesn't already exist\n",
        "            new_directory = os.path.join(base_directory, prefix)\n",
        "            if not os.path.exists(new_directory):\n",
        "                os.makedirs(new_directory)\n",
        "\n",
        "            # Move the file to the new directory\n",
        "            shutil.move(os.path.join(base_directory, file), os.path.join(new_directory, file))\n",
        "\n",
        "# Organize the files\n",
        "organize_files(input_path)\n",
        "organize_files(output_path)"
      ]
    },
    {
      "cell_type": "markdown",
      "metadata": {},
      "source": [
        "If you wanna organize the directory with all the images on train, test and validation:"
      ]
    },
    {
      "cell_type": "code",
      "execution_count": 13,
      "metadata": {},
      "outputs": [],
      "source": [
        "from sklearn.model_selection import train_test_split\n",
        "\n",
        "file_list = os.listdir(input_path)\n",
        "\n",
        "# Split the dataset into feature and target sets\n",
        "train_files, test_files = train_test_split(file_list, test_size=0.2, random_state=42)\n",
        "train_files, val_files = train_test_split(train_files, test_size=0.25, random_state=42)  # 0.25 x 0.8 = 0.2"
      ]
    },
    {
      "cell_type": "code",
      "execution_count": null,
      "metadata": {},
      "outputs": [],
      "source": [
        "import os\n",
        "import shutil\n",
        "\n",
        "# Function to move files\n",
        "def copy_files(files, source, destination):\n",
        "    print(f\"Copy from {source} to {destination}\")\n",
        "    for file in files:\n",
        "        # Construct full file path\n",
        "        src_path = os.path.join(source, file)\n",
        "        dst_path = os.path.join(destination, file)\n",
        "        # Move the file\n",
        "        shutil.copy(src_path, dst_path)\n",
        "\n",
        "# Move the files according to the splits\n",
        "copy_files(train_files, input_path, train_dir)\n",
        "copy_files(test_files, input_path, test_dir)\n",
        "copy_files(val_files, input_path, val_dir)\n",
        "\n",
        "print(\"Number of files in train set:\", len(os.listdir(train_dir)))\n",
        "print(\"Number of files in test set:\", len(os.listdir(test_dir)))\n",
        "print(\"Number of files in validation set:\", len(os.listdir(val_dir)))"
      ]
    },
    {
      "cell_type": "markdown",
      "metadata": {
        "id": "VRG7pjhkTRcV"
      },
      "source": [
        "To use the validation, we must create lower resultion versions of the same images."
      ]
    },
    {
      "cell_type": "markdown",
      "metadata": {},
      "source": [
        "In HQ images we have images with dimensions 64x1024 and in LQ 16x1024. To use this model, we must have the same image dimensions between input and output, so we resize the LQ images by interpolating their lines."
      ]
    },
    {
      "cell_type": "code",
      "execution_count": null,
      "metadata": {},
      "outputs": [],
      "source": [
        "import numpy as np\n",
        "import cv2\n",
        "\n",
        "def interpolate_lines(input_image):\n",
        "    # Get the dimensions of the input image\n",
        "    input_height, input_width = input_image.shape\n",
        "\n",
        "    # Calculate the scale factor for interpolation\n",
        "    scale_factor = 64 // input_height\n",
        "    print('scale_factor = ',scale_factor)\n",
        "\n",
        "    # Create an empty output image with the desired size\n",
        "    output_height = 64\n",
        "    output_width = input_width\n",
        "    output_image = np.zeros((output_height, output_width), dtype=np.uint8)\n",
        "\n",
        "    # Interpolate lines between the input lines\n",
        "    for i in range(input_height - 1):\n",
        "        start_line = input_image[i]\n",
        "        end_line = input_image[i + 1]\n",
        "\n",
        "        # Interpolate between the start and end lines\n",
        "        interpolated_lines = np.linspace(start_line, end_line, scale_factor + 1, axis=0)\n",
        "\n",
        "        # Copy the interpolated lines to the output image\n",
        "        output_image[i * scale_factor : (i + 1) * scale_factor] = interpolated_lines[:-1]\n",
        "\n",
        "    # Copy the last line of the input image to the remaining lines of the output image\n",
        "    output_image[(input_height - 1) * scale_factor :] = input_image[-1]\n",
        "\n",
        "    return output_image\n",
        "\n",
        "input_path_00 = os.path.join(f\"{dataset_path}\",\"input\",\"splited_images\", \"00\")\n",
        "\n",
        "for file in os.listdir(input_path_00):\n",
        "    filePath = os.path.join(input_path_00, file)\n",
        "    print(f\"Interpolating {filePath}...\")\n",
        "    input_image = cv2.imread(filePath, cv2.IMREAD_GRAYSCALE)\n",
        "    output_image = interpolate_lines(input_image)\n",
        "    cv2.imwrite(filePath, output_image)"
      ]
    },
    {
      "cell_type": "code",
      "execution_count": 35,
      "metadata": {
        "id": "egz-NjRGiYd3"
      },
      "outputs": [],
      "source": [
        "# !mkdir /mnt/d/Dev/Projects/Lume/super_resolution/datasets/validation/lq/\n",
        "# from PIL import Image\n",
        "# import glob\n",
        "# for filename in glob.glob('/mnt/d/Dev/Projects/Lume/super_resolution/datasets/validation/hq/*'):\n",
        "#   head, tail = os.path.split(filename)\n",
        "#   image_golden = Image.open(filename)\n",
        "#   image_downscale = image_golden.resize((int(image_golden.size[0]/4),int(image_golden.size[1]/4)))\n",
        "#   image_downscale.save(\"/mnt/d/Dev/Projects/Lume/super_resolution/datasets/validation/lq/\" + tail)\n"
      ]
    },
    {
      "cell_type": "markdown",
      "metadata": {},
      "source": [
        "## START HERE\n",
        "\n",
        "As we already have both directorys (input LQ and output HQ), we'll finetuning with our own paired data. For this, we will use only the input and output directories and the config file meta_train_pair.txt."
      ]
    },
    {
      "cell_type": "markdown",
      "metadata": {
        "id": "FCCnQUAKUX-G"
      },
      "source": [
        "The original Real-ESRGAN repo requires to create a meta info file for the train dataset. This cell will run a script to generate exactly that.\n",
        "In .txt file, in our example, is necessery to rename the paths to replace \"../../../../../../..\" to \"\""
      ]
    },
    {
      "cell_type": "code",
      "execution_count": null,
      "metadata": {
        "colab": {
          "base_uri": "https://localhost:8080/"
        },
        "id": "GwNzCSSKhPhb",
        "outputId": "16bd7a37-9737-498c-9f96-df0ac2f5086b"
      },
      "outputs": [],
      "source": [
        "# !python scripts/generate_meta_info.py --input datasets/modernarchitecture/train/ --root ./ --meta_info datasets/modernarchitecture/meta_info_train.txt\n",
        "!python scripts/generate_meta_info.py --input /mnt/d/Dev/Projects/Lume/super_resolution/datasets/train/ --root ./ --meta_info /mnt/d/Dev/Projects/Lume/super_resolution/datasets/meta_info_train.txt"
      ]
    },
    {
      "cell_type": "code",
      "execution_count": null,
      "metadata": {},
      "outputs": [],
      "source": [
        "# if ypu want Train the model\n",
        "!python realesrgan/train.py --input /mnt/d/Dev/Projects/Lume/super_resolution/datasets/output/original_imgs/00 /mnt/d/Dev/Projects/Lume/super_resolution/datasets/input/splited_images/00 --meta_info /mnt/d/Dev/Projects/Lume/super_resolution/datasets/meta_info_pair.txt"
      ]
    },
    {
      "cell_type": "code",
      "execution_count": null,
      "metadata": {},
      "outputs": [],
      "source": [
        "# if you want to Finetuning with you own paired data\n",
        "!python realesrgan/train_finetune_architecture.py -opt options/finetune_realesrgan_x4plus_pairdata.yml --auto_resume"
      ]
    },
    {
      "cell_type": "code",
      "execution_count": 6,
      "metadata": {
        "id": "Nk81u84twysF"
      },
      "outputs": [
        {
          "name": "stdout",
          "output_type": "stream",
          "text": [
            "rm: cannot remove '/mnt/d/Dev/Projects/Lume/super_resolution/datasets/train/meta_info_train.txt': No such file or directory\n"
          ]
        }
      ],
      "source": [
        "# !rm datasets/modernarchitecture/train/meta_info_train.txt\n",
        "!rm /mnt/d/Dev/Projects/Lume/super_resolution/datasets/train/meta_info_train.txt"
      ]
    },
    {
      "cell_type": "markdown",
      "metadata": {
        "id": "tz_pLNo9VEXd"
      },
      "source": [
        "Here we shall download the original Real-ESRGAN weights. If you are going to work on different weights, you can skip this part."
      ]
    },
    {
      "cell_type": "code",
      "execution_count": null,
      "metadata": {
        "colab": {
          "base_uri": "https://localhost:8080/"
        },
        "id": "z539YU0-AAIT",
        "outputId": "626be9c1-6ee1-4861-8f2c-7cffe3bff267"
      },
      "outputs": [],
      "source": [
        "!wget https://github.com/xinntao/Real-ESRGAN/releases/download/v0.1.0/RealESRGAN_x4plus.pth -P experiments/pretrained_models\n",
        "!wget https://github.com/xinntao/Real-ESRGAN/releases/download/v0.2.2.3/RealESRGAN_x4plus_netD.pth -P experiments/pretrained_models"
      ]
    },
    {
      "cell_type": "markdown",
      "metadata": {
        "id": "jjpt8tIXVcNV"
      },
      "source": [
        "And finally, run this cell in order to strat the training process."
      ]
    },
    {
      "cell_type": "code",
      "execution_count": null,
      "metadata": {
        "colab": {
          "base_uri": "https://localhost:8080/"
        },
        "id": "Bvl7pjcKAhL8",
        "outputId": "8047cfeb-d687-41b4-bbb2-7deca43fe54d"
      },
      "outputs": [],
      "source": [
        "!python realesrgan/train_finetune_architecture.py -opt options/finetune_realesrgan_x4plus_pairdata.yml --auto_resume"
      ]
    },
    {
      "cell_type": "markdown",
      "metadata": {
        "id": "OjLONC2HWJcV"
      },
      "source": [
        "We will also need to copy the new weights to the wegihts folder from the experiment folder"
      ]
    },
    {
      "cell_type": "code",
      "execution_count": 3,
      "metadata": {
        "id": "cIv65X6cWRTT"
      },
      "outputs": [
        {
          "name": "stdout",
          "output_type": "stream",
          "text": [
            "cp: cannot stat '/experiments/finetune_RealESRGANx4plus_400k_pairdata/models/net_g_latest.pth': No such file or directory\n"
          ]
        }
      ],
      "source": [
        "# !cp experiments/finetune_RealESRGANx4plus_400k/models/net_g_latest.pth weights/net_g_latest.pth\n",
        "!cp /experiments/finetune_RealESRGANx4plus_400k_pairdata/models/net_g_latest.pth weights/net_g_latest.pth"
      ]
    },
    {
      "cell_type": "markdown",
      "metadata": {
        "id": "A6HAhkNaVnCD"
      },
      "source": [
        "Now we shall test the trained model. Similiar to the validation set, we first must create the lower resoultion versions of the test set."
      ]
    },
    {
      "cell_type": "markdown",
      "metadata": {
        "id": "Dn8wFJdqLPFF"
      },
      "source": [
        "**Inference and Test**"
      ]
    },
    {
      "cell_type": "code",
      "execution_count": null,
      "metadata": {},
      "outputs": [],
      "source": [
        "# test\n",
        "!cp -v /mnt/d/Dev/Projects/Lume/super_resolution/datasets/output/original_imgs/01/*.png /mnt/d/Dev/Projects/Lume/super_resolution/datasets/test/hq/ # 11k"
      ]
    },
    {
      "cell_type": "code",
      "execution_count": 9,
      "metadata": {},
      "outputs": [
        {
          "name": "stdout",
          "output_type": "stream",
          "text": [
            "/mnt/d/Dev/Projects/Lume/super_resolution/datasets/input/splited_images/01\n",
            "/mnt/d/Dev/Projects/Lume/super_resolution/datasets/input/splited_images/01/validation\n",
            "/mnt/d/Dev/Projects/Lume/super_resolution/datasets/input/splited_images/01/test\n"
          ]
        }
      ],
      "source": [
        "import os\n",
        "import shutil\n",
        "import random\n",
        "\n",
        "dataset_path = \"/mnt/d/Dev/Projects/Lume/super_resolution/datasets/\"\n",
        "source_path = os.path.join(f\"{dataset_path}\",\"input\",\"splited_images\", \"01\") # LQ\n",
        "validation_path = os.path.join(f\"{source_path}\",\"validation\")\n",
        "test_path = os.path.join(f\"{source_path}\",\"test\")\n",
        "\n",
        "# Create the directories if they don't exist\n",
        "if not os.path.exists(validation_path):\n",
        "    os.makedirs(validation_path, exist_ok=True)\n",
        "if not os.path.exists(test_path):\n",
        "    os.makedirs(test_path, exist_ok=True)\n",
        "\n",
        "print(source_path)\n",
        "print(validation_path)\n",
        "print(test_path)\n",
        "\n",
        "# Get a list of all .png files in the source path\n",
        "file_list = [file for file in os.listdir(source_path) if file.endswith(\".png\")]\n",
        "\n",
        "# Move each file to the validation path\n",
        "for file in file_list:\n",
        "    src_file = os.path.join(source_path, file)\n",
        "    dst_file = os.path.join(validation_path, file)\n",
        "    shutil.move(src_file, dst_file)\n",
        "\n",
        "\n",
        "\n",
        "\n",
        "\n"
      ]
    },
    {
      "cell_type": "code",
      "execution_count": null,
      "metadata": {},
      "outputs": [],
      "source": [
        "import os\n",
        "\n",
        "# rename validation files name\n",
        "def rename_files(directory):\n",
        "    # List all files in the specified directory\n",
        "    files = os.listdir(directory)\n",
        "    print(f\"path {directory}\")\n",
        "    for file in files:\n",
        "        # Check if the file name contains \"_original\"\n",
        "        print(f\"checking file: {file}\")\n",
        "        if '_original' in file:\n",
        "            # Generate the new file name by removing \"_original\"\n",
        "            new_name = file.replace('_original', '')\n",
        "\n",
        "            # Rename the file\n",
        "            os.rename(os.path.join(directory, file), os.path.join(directory, new_name))\n",
        "\n",
        "\n",
        "# Rename the files\n",
        "rename_files(test_dir_hq)\n",
        "# rename_files(val_dir_lq)"
      ]
    },
    {
      "cell_type": "code",
      "execution_count": null,
      "metadata": {
        "colab": {
          "base_uri": "https://localhost:8080/"
        },
        "id": "EIr_CA9MjqSK",
        "outputId": "40161fce-b168-4c26-8e5f-1566c21768c6"
      },
      "outputs": [
        {
          "name": "stdout",
          "output_type": "stream",
          "text": [
            "mkdir: cannot create directory ‘inputs_test/’: File exists\n"
          ]
        }
      ],
      "source": [
        "!mkdir inputs_test/\n",
        "from PIL import Image, ImageFile\n",
        "ImageFile.LOAD_TRUNCATED_IMAGES = True\n",
        "import glob\n",
        "for filename in glob.glob('datasets/modernarchitecture/test/hq/*'):\n",
        "  image_golden = Image.open(filename)\n",
        "  image_downscale = image_golden.resize((int(image_golden.size[0]/2),int(image_golden.size[1]/2)))\n",
        "  head, tail = os.path.split(filename)\n",
        "  image_downscale.save(\"inputs_test/downscale_\" + tail)"
      ]
    },
    {
      "cell_type": "markdown",
      "metadata": {
        "id": "C82vqfR0Weur"
      },
      "source": [
        "Finally, we can run the inference script in order ro get the test results"
      ]
    },
    {
      "cell_type": "code",
      "execution_count": 13,
      "metadata": {
        "colab": {
          "base_uri": "https://localhost:8080/"
        },
        "id": "sfp9thOOY_xo",
        "outputId": "db8bebf9-0631-4d09-ef71-00a0703c1fbc"
      },
      "outputs": [
        {
          "name": "stdout",
          "output_type": "stream",
          "text": [
            "net_g_latest\n",
            "weights/net_g_latest.pth\n",
            "4\n",
            "Traceback (most recent call last):\n",
            "  File \"/home/nabila/projects/lume/super_resolution/Real-ESRGAN/Real-ESRGAN/inference_realesrgan.py\", line 170, in <module>\n",
            "    main()\n",
            "  File \"/home/nabila/projects/lume/super_resolution/Real-ESRGAN/Real-ESRGAN/inference_realesrgan.py\", line 115, in main\n",
            "    model=model,\n",
            "UnboundLocalError: local variable 'model' referenced before assignment\n"
          ]
        }
      ],
      "source": [
        "# !python inference_realesrgan_architecture.py -n net_g_latest.pth -i inputs_test --outscale 2 --output new_model_results\n",
        "!python inference_realesrgan.py -n net_g_latest.pth -i /mnt/d/Dev/Projects/Lume/super_resolution/datasets/input/splited_images/01/test --outscale 4 --output new_model_results"
      ]
    },
    {
      "cell_type": "markdown",
      "metadata": {
        "id": "JEuSwb4DBeF4"
      },
      "source": [
        "Or we can infer with previosly fine tuned model"
      ]
    },
    {
      "cell_type": "code",
      "execution_count": 16,
      "metadata": {
        "colab": {
          "base_uri": "https://localhost:8080/"
        },
        "id": "qHFCmEBQgS6h",
        "outputId": "498273eb-c4e9-41df-ecbb-4914c33b2ae6"
      },
      "outputs": [
        {
          "name": "stdout",
          "output_type": "stream",
          "text": [
            "net_g_architecture\n",
            "weights/net_g_architecture.pth\n",
            "4\n",
            "Testing 0 1_000097\n",
            "Testing 1 1_000119\n",
            "Testing 2 2_000097\n",
            "Testing 3 2_000119\n",
            "Testing 4 3_000097\n",
            "Testing 5 3_000119\n",
            "Testing 6 4_000097\n",
            "Testing 7 4_000119\n"
          ]
        }
      ],
      "source": [
        "# !python inference_realesrgan.py -n net_g_architecture.pth -i /mnt/d/Dev/Projects/Lume/super_resolution/datasets/input/splited_images/01/test --outscale 4 --output /mnt/d/Dev/Projects/Lume/super_resolution/datasets/input/splited_images/01/results\n",
        "!python inference_realesrgan.py -n net_g_architecture.pth -i /mnt/d/Dev/Projects/Lume/super_resolution/datasets/input/splited_images/01/LR --outscale 4 --output /mnt/d/Dev/Projects/Lume/super_resolution/datasets/input/splited_images/01/LR_results"
      ]
    },
    {
      "cell_type": "markdown",
      "metadata": {
        "id": "0KGAVm6jWoD7"
      },
      "source": [
        "If there is a need, you could run the cell below in order to use the original Real-ESRGAN weights, and to test them"
      ]
    },
    {
      "cell_type": "code",
      "execution_count": null,
      "metadata": {
        "colab": {
          "base_uri": "https://localhost:8080/"
        },
        "id": "qc_wdjW0gYQq",
        "outputId": "82312b38-539f-4933-c4c1-a108e1422af4"
      },
      "outputs": [
        {
          "name": "stdout",
          "output_type": "stream",
          "text": [
            "/usr/local/lib/python3.10/dist-packages/torchvision/transforms/functional_tensor.py:5: UserWarning: The torchvision.transforms.functional_tensor module is deprecated in 0.15 and will be **removed in 0.17**. Please don't rely on it. You probably just need to use APIs in torchvision.transforms.functional or in torchvision.transforms.v2.functional.\n",
            "  warnings.warn(\n",
            "Testing 0 downscale_F176_VOX_arquitectura_Beam_\n",
            "Testing 1 downscale_F176_VOX_arquitectura_Door_Beam_Handrail_\n",
            "Testing 2 downscale_F176_VOX_arquitectura_Drawings_\n",
            "Testing 3 downscale_F176_VOX_arquitectura_Facade_Handrail_\n",
            "Testing 4 downscale_F176_VOX_arquitectura_Facade_Windows_\n",
            "Testing 5 downscale_F176_VOX_arquitectura_Fence_Facade_Handrail_\n",
            "Testing 6 downscale_F176_VOX_arquitectura_Stairs_Handrail_Steel_\n",
            "Testing 7 downscale_F176_VOX_arquitectura_Windows_\n",
            "Testing 8 downscale_F176_VOX_arquitectura_Windows_Brick_Facade_\n",
            "Testing 9 downscale_F176_VOX_arquitectura_Windows_Facade_\n",
            "Testing 10 downscale_F176_VOX_arquitectura_Windows_Facade_Handrail_\n",
            "Testing 11 downscale_F176_VOX_arquitectura_Windows_Fence_Glass_Chair_Handrail_\n",
            "Testing 12 downscale_F176_VOX_arquitectura_Windows_Stairs_Facade_Beam_Handrail_\n",
            "Testing 13 downscale_F35_House_Projetebem_Arquitetura_Drawings_\n",
            "Traceback (most recent call last):\n",
            "  File \"/content/inference_realesrgan_architecture.py\", line 170, in <module>\n",
            "    main()\n",
            "  File \"/content/inference_realesrgan_architecture.py\", line 151, in main\n",
            "    output, _ = upsampler.enhance(img, outscale=args.outscale)\n",
            "  File \"/usr/local/lib/python3.10/dist-packages/torch/utils/_contextlib.py\", line 115, in decorate_context\n",
            "    return func(*args, **kwargs)\n",
            "  File \"/content/realesrgan/utils.py\", line 223, in enhance\n",
            "    self.process()\n",
            "  File \"/content/realesrgan/utils.py\", line 115, in process\n",
            "    self.output = self.model(self.img)\n",
            "  File \"/usr/local/lib/python3.10/dist-packages/torch/nn/modules/module.py\", line 1501, in _call_impl\n",
            "    return forward_call(*args, **kwargs)\n",
            "  File \"/usr/local/lib/python3.10/dist-packages/basicsr/archs/rrdbnet_arch.py\", line 113, in forward\n",
            "    body_feat = self.conv_body(self.body(feat))\n",
            "  File \"/usr/local/lib/python3.10/dist-packages/torch/nn/modules/module.py\", line 1501, in _call_impl\n",
            "    return forward_call(*args, **kwargs)\n",
            "  File \"/usr/local/lib/python3.10/dist-packages/torch/nn/modules/container.py\", line 217, in forward\n",
            "    input = module(input)\n",
            "  File \"/usr/local/lib/python3.10/dist-packages/torch/nn/modules/module.py\", line 1501, in _call_impl\n",
            "    return forward_call(*args, **kwargs)\n",
            "  File \"/usr/local/lib/python3.10/dist-packages/basicsr/archs/rrdbnet_arch.py\", line 59, in forward\n",
            "    out = self.rdb1(x)\n",
            "  File \"/usr/local/lib/python3.10/dist-packages/torch/nn/modules/module.py\", line 1501, in _call_impl\n",
            "    return forward_call(*args, **kwargs)\n",
            "  File \"/usr/local/lib/python3.10/dist-packages/basicsr/archs/rrdbnet_arch.py\", line 34, in forward\n",
            "    x2 = self.lrelu(self.conv2(torch.cat((x, x1), 1)))\n",
            "  File \"/usr/local/lib/python3.10/dist-packages/torch/nn/modules/module.py\", line 1501, in _call_impl\n",
            "    return forward_call(*args, **kwargs)\n",
            "  File \"/usr/local/lib/python3.10/dist-packages/torch/nn/modules/conv.py\", line 463, in forward\n",
            "    return self._conv_forward(input, self.weight, self.bias)\n",
            "  File \"/usr/local/lib/python3.10/dist-packages/torch/nn/modules/conv.py\", line 459, in _conv_forward\n",
            "    return F.conv2d(input, weight, bias, self.stride,\n",
            "KeyboardInterrupt\n",
            "^C\n"
          ]
        }
      ],
      "source": [
        "!python inference_realesrgan_architecture.py -n RealESRGAN_x4plus -i inputs_test --outscale 2 --output golden_results"
      ]
    },
    {
      "cell_type": "markdown",
      "metadata": {
        "id": "jVqqDra3XP7S"
      },
      "source": [
        "If there is a need to comapre metric results, modify this code to your needs."
      ]
    },
    {
      "cell_type": "code",
      "execution_count": null,
      "metadata": {
        "colab": {
          "base_uri": "https://localhost:8080/"
        },
        "id": "0QXXHr5rlXOe",
        "outputId": "969bae02-c0e7-48d3-f215-a42d3f32593b"
      },
      "outputs": [
        {
          "name": "stdout",
          "output_type": "stream",
          "text": [
            "avg_our_niqe 4.36796694945366 avg_orig_niqe  3.40678806614249 avg_gold_niqe 4.437186537028811\n",
            "avg_our_psnr tensor(21.8031) avg_gold_psnr  tensor(22.2831) avg_gt_psnr tensor(70.)\n"
          ]
        }
      ],
      "source": [
        "import torchvision.transforms as transforms\n",
        "from basicsr.metrics import calculate_ssim, calculate_psnr, calculate_niqe\n",
        "import torch\n",
        "import piqa\n",
        "from os.path import exists\n",
        "psnr = piqa.PSNR()\n",
        "ssim = piqa.ssim.SSIM()\n",
        "avg_our_niqe = 0.0\n",
        "avg_orig_niqe = 0.0\n",
        "avg_gold_niqe = 0.0\n",
        "avg_our_psnr = 0.0\n",
        "avg_gold_psnr = 0.0\n",
        "avg_gt_psnr = 0.0\n",
        "total_files = 0\n",
        "for filename in glob.glob('datasets/modernarchitecture/test/hq/*.jpg'):\n",
        "    head, tail = os.path.split(filename)\n",
        "    golden_result = Image.open('golden_results/downscale_'+tail[:-4]+'_out.jpg')\n",
        "    our_result = Image.open('our_results/downscale_'+tail[:-4]+'_out.jpg')\n",
        "    gt = Image.open(filename)\n",
        "    our_result = our_result.resize((gt.size[0], gt.size[1]))\n",
        "    golden_result = golden_result.resize((gt.size[0], gt.size[1]))\n",
        "    transform = transforms.PILToTensor()\n",
        "    golden_result = transform(golden_result)\n",
        "    our_result = transform(our_result)\n",
        "    gt = transform(gt)\n",
        "    if(our_result.numpy().shape[0] == 3 and gt.numpy().shape == our_result.numpy().shape and gt.numpy().shape == golden_result.numpy().shape):\n",
        "      avg_our_niqe += calculate_niqe(img = our_result.numpy(), crop_border=4, test_y_channel=False, input_order='CHW' ,convert_to='gray')\n",
        "      avg_orig_niqe += calculate_niqe(img = gt.numpy(), crop_border=4, test_y_channel=False, input_order='CHW' ,convert_to='gray')\n",
        "      avg_gold_niqe += calculate_niqe(img = golden_result.numpy(), crop_border=4, test_y_channel=False, input_order='CHW' ,convert_to='gray')\n",
        "      avg_our_psnr += psnr(our_result.type(torch.float)/255, gt.type(torch.float)/255)\n",
        "      avg_gold_psnr += psnr(golden_result.type(torch.float)/255, gt.type(torch.float)/255)\n",
        "      avg_gt_psnr += psnr(gt.type(torch.float)/255, gt.type(torch.float)/255)\n",
        "    total_files += 1\n",
        "avg_our_niqe /= total_files\n",
        "avg_orig_niqe /= total_files\n",
        "avg_gold_niqe /= total_files\n",
        "avg_our_psnr /= total_files\n",
        "avg_gold_psnr /= total_files\n",
        "avg_gt_psnr /= total_files\n",
        "print(\"avg_our_niqe\", avg_our_niqe, \"avg_orig_niqe \", avg_orig_niqe, \"avg_gold_niqe\", avg_gold_niqe)\n",
        "print(\"avg_our_psnr\", avg_our_psnr, \"avg_gold_psnr \", avg_gold_psnr, \"avg_gt_psnr\", avg_gt_psnr)\n"
      ]
    },
    {
      "cell_type": "markdown",
      "metadata": {
        "id": "NC2uApLjY-HS"
      },
      "source": [
        "Here is an example of how to cut a snippet of the images to focus on specific parts of an image"
      ]
    },
    {
      "cell_type": "code",
      "execution_count": null,
      "metadata": {
        "id": "7Dlt0_4Cwx1n"
      },
      "outputs": [],
      "source": [
        "!mkdir patches/\n",
        "from PIL import Image\n",
        "import glob\n",
        "ext = \".jpg\"\n",
        "og_filename = \"F176_VOX_arquitectura_Beam_\"\n",
        "changed_filename = \"downscale_\" + og_filename + \"_out\"\n",
        "images = []\n",
        "catgories = [\"our\", \"golden\", \"og\"]\n",
        "for category in catgories:\n",
        "  if category == \"og\":\n",
        "    image = Image.open(\"datasets/modernarchitecture/test/hq/\" + og_filename + \".jpg\")\n",
        "  else:\n",
        "    image = Image.open(category + \"_results/\" + changed_filename + \".jpg\")\n",
        "\n",
        "  width, height = image.size\n",
        "  left = 0\n",
        "  top = 0\n",
        "  right = width / 3\n",
        "  bottom = height / 6\n",
        "\n",
        "  image = image.crop((left, top, right, bottom))\n",
        "  images.append(image)\n",
        "\n",
        "  image.save(\"patches/patch_\" + category + \"_\" + og_filename + ext)"
      ]
    }
  ],
  "metadata": {
    "accelerator": "GPU",
    "colab": {
      "gpuType": "T4",
      "machine_shape": "hm",
      "provenance": []
    },
    "kernelspec": {
      "display_name": "Python 3",
      "name": "python3"
    },
    "language_info": {
      "codemirror_mode": {
        "name": "ipython",
        "version": 3
      },
      "file_extension": ".py",
      "mimetype": "text/x-python",
      "name": "python",
      "nbconvert_exporter": "python",
      "pygments_lexer": "ipython3",
      "version": "3.10.12"
    }
  },
  "nbformat": 4,
  "nbformat_minor": 0
}
